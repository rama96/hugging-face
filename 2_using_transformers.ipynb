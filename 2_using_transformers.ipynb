{
  "nbformat": 4,
  "nbformat_minor": 0,
  "metadata": {
    "colab": {
      "name": "2. using_transformers.ipynb",
      "provenance": [],
      "collapsed_sections": [],
      "authorship_tag": "ABX9TyPTagZZbYulHissRxJ8piLH",
      "include_colab_link": true
    },
    "kernelspec": {
      "name": "python3",
      "display_name": "Python 3"
    },
    "language_info": {
      "name": "python"
    },
    "widgets": {
      "application/vnd.jupyter.widget-state+json": {
        "4697764afb214bad843c6a49621c7b13": {
          "model_module": "@jupyter-widgets/controls",
          "model_name": "HBoxModel",
          "model_module_version": "1.5.0",
          "state": {
            "_dom_classes": [],
            "_model_module": "@jupyter-widgets/controls",
            "_model_module_version": "1.5.0",
            "_model_name": "HBoxModel",
            "_view_count": null,
            "_view_module": "@jupyter-widgets/controls",
            "_view_module_version": "1.5.0",
            "_view_name": "HBoxView",
            "box_style": "",
            "children": [
              "IPY_MODEL_a4f0f6d046fb4f039fcca6135b84ade4",
              "IPY_MODEL_932711bda73a4e83af04a4f846230c0b",
              "IPY_MODEL_b0cb16d5cd2d40e5acf6da24b20ca290"
            ],
            "layout": "IPY_MODEL_c89bc03f42a0448e8adbcf6cb0787ca8"
          }
        },
        "a4f0f6d046fb4f039fcca6135b84ade4": {
          "model_module": "@jupyter-widgets/controls",
          "model_name": "HTMLModel",
          "model_module_version": "1.5.0",
          "state": {
            "_dom_classes": [],
            "_model_module": "@jupyter-widgets/controls",
            "_model_module_version": "1.5.0",
            "_model_name": "HTMLModel",
            "_view_count": null,
            "_view_module": "@jupyter-widgets/controls",
            "_view_module_version": "1.5.0",
            "_view_name": "HTMLView",
            "description": "",
            "description_tooltip": null,
            "layout": "IPY_MODEL_75e974292c2b46ca83000391399593e7",
            "placeholder": "​",
            "style": "IPY_MODEL_fba3666dd18042c387259d52af649efe",
            "value": "Downloading vocab.json: 100%"
          }
        },
        "932711bda73a4e83af04a4f846230c0b": {
          "model_module": "@jupyter-widgets/controls",
          "model_name": "FloatProgressModel",
          "model_module_version": "1.5.0",
          "state": {
            "_dom_classes": [],
            "_model_module": "@jupyter-widgets/controls",
            "_model_module_version": "1.5.0",
            "_model_name": "FloatProgressModel",
            "_view_count": null,
            "_view_module": "@jupyter-widgets/controls",
            "_view_module_version": "1.5.0",
            "_view_name": "ProgressView",
            "bar_style": "success",
            "description": "",
            "description_tooltip": null,
            "layout": "IPY_MODEL_1c0b47f71642414297cd1d3837306efa",
            "max": 898823,
            "min": 0,
            "orientation": "horizontal",
            "style": "IPY_MODEL_047c70b690c04f018c46e3f70097ba7f",
            "value": 898823
          }
        },
        "b0cb16d5cd2d40e5acf6da24b20ca290": {
          "model_module": "@jupyter-widgets/controls",
          "model_name": "HTMLModel",
          "model_module_version": "1.5.0",
          "state": {
            "_dom_classes": [],
            "_model_module": "@jupyter-widgets/controls",
            "_model_module_version": "1.5.0",
            "_model_name": "HTMLModel",
            "_view_count": null,
            "_view_module": "@jupyter-widgets/controls",
            "_view_module_version": "1.5.0",
            "_view_name": "HTMLView",
            "description": "",
            "description_tooltip": null,
            "layout": "IPY_MODEL_be56a72908ad4471ba36ac2346b37d23",
            "placeholder": "​",
            "style": "IPY_MODEL_6f2c3bd06c734bee9070752f036645ab",
            "value": " 878k/878k [00:00&lt;00:00, 13.1MB/s]"
          }
        },
        "c89bc03f42a0448e8adbcf6cb0787ca8": {
          "model_module": "@jupyter-widgets/base",
          "model_name": "LayoutModel",
          "model_module_version": "1.2.0",
          "state": {
            "_model_module": "@jupyter-widgets/base",
            "_model_module_version": "1.2.0",
            "_model_name": "LayoutModel",
            "_view_count": null,
            "_view_module": "@jupyter-widgets/base",
            "_view_module_version": "1.2.0",
            "_view_name": "LayoutView",
            "align_content": null,
            "align_items": null,
            "align_self": null,
            "border": null,
            "bottom": null,
            "display": null,
            "flex": null,
            "flex_flow": null,
            "grid_area": null,
            "grid_auto_columns": null,
            "grid_auto_flow": null,
            "grid_auto_rows": null,
            "grid_column": null,
            "grid_gap": null,
            "grid_row": null,
            "grid_template_areas": null,
            "grid_template_columns": null,
            "grid_template_rows": null,
            "height": null,
            "justify_content": null,
            "justify_items": null,
            "left": null,
            "margin": null,
            "max_height": null,
            "max_width": null,
            "min_height": null,
            "min_width": null,
            "object_fit": null,
            "object_position": null,
            "order": null,
            "overflow": null,
            "overflow_x": null,
            "overflow_y": null,
            "padding": null,
            "right": null,
            "top": null,
            "visibility": null,
            "width": null
          }
        },
        "75e974292c2b46ca83000391399593e7": {
          "model_module": "@jupyter-widgets/base",
          "model_name": "LayoutModel",
          "model_module_version": "1.2.0",
          "state": {
            "_model_module": "@jupyter-widgets/base",
            "_model_module_version": "1.2.0",
            "_model_name": "LayoutModel",
            "_view_count": null,
            "_view_module": "@jupyter-widgets/base",
            "_view_module_version": "1.2.0",
            "_view_name": "LayoutView",
            "align_content": null,
            "align_items": null,
            "align_self": null,
            "border": null,
            "bottom": null,
            "display": null,
            "flex": null,
            "flex_flow": null,
            "grid_area": null,
            "grid_auto_columns": null,
            "grid_auto_flow": null,
            "grid_auto_rows": null,
            "grid_column": null,
            "grid_gap": null,
            "grid_row": null,
            "grid_template_areas": null,
            "grid_template_columns": null,
            "grid_template_rows": null,
            "height": null,
            "justify_content": null,
            "justify_items": null,
            "left": null,
            "margin": null,
            "max_height": null,
            "max_width": null,
            "min_height": null,
            "min_width": null,
            "object_fit": null,
            "object_position": null,
            "order": null,
            "overflow": null,
            "overflow_x": null,
            "overflow_y": null,
            "padding": null,
            "right": null,
            "top": null,
            "visibility": null,
            "width": null
          }
        },
        "fba3666dd18042c387259d52af649efe": {
          "model_module": "@jupyter-widgets/controls",
          "model_name": "DescriptionStyleModel",
          "model_module_version": "1.5.0",
          "state": {
            "_model_module": "@jupyter-widgets/controls",
            "_model_module_version": "1.5.0",
            "_model_name": "DescriptionStyleModel",
            "_view_count": null,
            "_view_module": "@jupyter-widgets/base",
            "_view_module_version": "1.2.0",
            "_view_name": "StyleView",
            "description_width": ""
          }
        },
        "1c0b47f71642414297cd1d3837306efa": {
          "model_module": "@jupyter-widgets/base",
          "model_name": "LayoutModel",
          "model_module_version": "1.2.0",
          "state": {
            "_model_module": "@jupyter-widgets/base",
            "_model_module_version": "1.2.0",
            "_model_name": "LayoutModel",
            "_view_count": null,
            "_view_module": "@jupyter-widgets/base",
            "_view_module_version": "1.2.0",
            "_view_name": "LayoutView",
            "align_content": null,
            "align_items": null,
            "align_self": null,
            "border": null,
            "bottom": null,
            "display": null,
            "flex": null,
            "flex_flow": null,
            "grid_area": null,
            "grid_auto_columns": null,
            "grid_auto_flow": null,
            "grid_auto_rows": null,
            "grid_column": null,
            "grid_gap": null,
            "grid_row": null,
            "grid_template_areas": null,
            "grid_template_columns": null,
            "grid_template_rows": null,
            "height": null,
            "justify_content": null,
            "justify_items": null,
            "left": null,
            "margin": null,
            "max_height": null,
            "max_width": null,
            "min_height": null,
            "min_width": null,
            "object_fit": null,
            "object_position": null,
            "order": null,
            "overflow": null,
            "overflow_x": null,
            "overflow_y": null,
            "padding": null,
            "right": null,
            "top": null,
            "visibility": null,
            "width": null
          }
        },
        "047c70b690c04f018c46e3f70097ba7f": {
          "model_module": "@jupyter-widgets/controls",
          "model_name": "ProgressStyleModel",
          "model_module_version": "1.5.0",
          "state": {
            "_model_module": "@jupyter-widgets/controls",
            "_model_module_version": "1.5.0",
            "_model_name": "ProgressStyleModel",
            "_view_count": null,
            "_view_module": "@jupyter-widgets/base",
            "_view_module_version": "1.2.0",
            "_view_name": "StyleView",
            "bar_color": null,
            "description_width": ""
          }
        },
        "be56a72908ad4471ba36ac2346b37d23": {
          "model_module": "@jupyter-widgets/base",
          "model_name": "LayoutModel",
          "model_module_version": "1.2.0",
          "state": {
            "_model_module": "@jupyter-widgets/base",
            "_model_module_version": "1.2.0",
            "_model_name": "LayoutModel",
            "_view_count": null,
            "_view_module": "@jupyter-widgets/base",
            "_view_module_version": "1.2.0",
            "_view_name": "LayoutView",
            "align_content": null,
            "align_items": null,
            "align_self": null,
            "border": null,
            "bottom": null,
            "display": null,
            "flex": null,
            "flex_flow": null,
            "grid_area": null,
            "grid_auto_columns": null,
            "grid_auto_flow": null,
            "grid_auto_rows": null,
            "grid_column": null,
            "grid_gap": null,
            "grid_row": null,
            "grid_template_areas": null,
            "grid_template_columns": null,
            "grid_template_rows": null,
            "height": null,
            "justify_content": null,
            "justify_items": null,
            "left": null,
            "margin": null,
            "max_height": null,
            "max_width": null,
            "min_height": null,
            "min_width": null,
            "object_fit": null,
            "object_position": null,
            "order": null,
            "overflow": null,
            "overflow_x": null,
            "overflow_y": null,
            "padding": null,
            "right": null,
            "top": null,
            "visibility": null,
            "width": null
          }
        },
        "6f2c3bd06c734bee9070752f036645ab": {
          "model_module": "@jupyter-widgets/controls",
          "model_name": "DescriptionStyleModel",
          "model_module_version": "1.5.0",
          "state": {
            "_model_module": "@jupyter-widgets/controls",
            "_model_module_version": "1.5.0",
            "_model_name": "DescriptionStyleModel",
            "_view_count": null,
            "_view_module": "@jupyter-widgets/base",
            "_view_module_version": "1.2.0",
            "_view_name": "StyleView",
            "description_width": ""
          }
        },
        "c7f2a11b07f248de87fad5e733406f60": {
          "model_module": "@jupyter-widgets/controls",
          "model_name": "HBoxModel",
          "model_module_version": "1.5.0",
          "state": {
            "_dom_classes": [],
            "_model_module": "@jupyter-widgets/controls",
            "_model_module_version": "1.5.0",
            "_model_name": "HBoxModel",
            "_view_count": null,
            "_view_module": "@jupyter-widgets/controls",
            "_view_module_version": "1.5.0",
            "_view_name": "HBoxView",
            "box_style": "",
            "children": [
              "IPY_MODEL_d297d4b3063d4f469ef6149e489d033d",
              "IPY_MODEL_73aa94d58ea34cd290ac85ca2d6a34ea",
              "IPY_MODEL_f77d05eeea634141a93e7472ddae3c56"
            ],
            "layout": "IPY_MODEL_bedad5a4f28b49a09568019c9daa8b9a"
          }
        },
        "d297d4b3063d4f469ef6149e489d033d": {
          "model_module": "@jupyter-widgets/controls",
          "model_name": "HTMLModel",
          "model_module_version": "1.5.0",
          "state": {
            "_dom_classes": [],
            "_model_module": "@jupyter-widgets/controls",
            "_model_module_version": "1.5.0",
            "_model_name": "HTMLModel",
            "_view_count": null,
            "_view_module": "@jupyter-widgets/controls",
            "_view_module_version": "1.5.0",
            "_view_name": "HTMLView",
            "description": "",
            "description_tooltip": null,
            "layout": "IPY_MODEL_a559376f36da430a902d3bac6baa82af",
            "placeholder": "​",
            "style": "IPY_MODEL_bb8de152b6b940638a326dd8fe4a612e",
            "value": "Downloading merges.txt: 100%"
          }
        },
        "73aa94d58ea34cd290ac85ca2d6a34ea": {
          "model_module": "@jupyter-widgets/controls",
          "model_name": "FloatProgressModel",
          "model_module_version": "1.5.0",
          "state": {
            "_dom_classes": [],
            "_model_module": "@jupyter-widgets/controls",
            "_model_module_version": "1.5.0",
            "_model_name": "FloatProgressModel",
            "_view_count": null,
            "_view_module": "@jupyter-widgets/controls",
            "_view_module_version": "1.5.0",
            "_view_name": "ProgressView",
            "bar_style": "success",
            "description": "",
            "description_tooltip": null,
            "layout": "IPY_MODEL_41d6ff4d3f4c49deaa1371599907ba4e",
            "max": 456318,
            "min": 0,
            "orientation": "horizontal",
            "style": "IPY_MODEL_0dbde1b2a97a4728b7c1a13b9ab53b36",
            "value": 456318
          }
        },
        "f77d05eeea634141a93e7472ddae3c56": {
          "model_module": "@jupyter-widgets/controls",
          "model_name": "HTMLModel",
          "model_module_version": "1.5.0",
          "state": {
            "_dom_classes": [],
            "_model_module": "@jupyter-widgets/controls",
            "_model_module_version": "1.5.0",
            "_model_name": "HTMLModel",
            "_view_count": null,
            "_view_module": "@jupyter-widgets/controls",
            "_view_module_version": "1.5.0",
            "_view_name": "HTMLView",
            "description": "",
            "description_tooltip": null,
            "layout": "IPY_MODEL_ca4588bf0d604e98853c678491f18669",
            "placeholder": "​",
            "style": "IPY_MODEL_e200291257a54b7f9c7bd3e00b9ef3b8",
            "value": " 446k/446k [00:00&lt;00:00, 9.87MB/s]"
          }
        },
        "bedad5a4f28b49a09568019c9daa8b9a": {
          "model_module": "@jupyter-widgets/base",
          "model_name": "LayoutModel",
          "model_module_version": "1.2.0",
          "state": {
            "_model_module": "@jupyter-widgets/base",
            "_model_module_version": "1.2.0",
            "_model_name": "LayoutModel",
            "_view_count": null,
            "_view_module": "@jupyter-widgets/base",
            "_view_module_version": "1.2.0",
            "_view_name": "LayoutView",
            "align_content": null,
            "align_items": null,
            "align_self": null,
            "border": null,
            "bottom": null,
            "display": null,
            "flex": null,
            "flex_flow": null,
            "grid_area": null,
            "grid_auto_columns": null,
            "grid_auto_flow": null,
            "grid_auto_rows": null,
            "grid_column": null,
            "grid_gap": null,
            "grid_row": null,
            "grid_template_areas": null,
            "grid_template_columns": null,
            "grid_template_rows": null,
            "height": null,
            "justify_content": null,
            "justify_items": null,
            "left": null,
            "margin": null,
            "max_height": null,
            "max_width": null,
            "min_height": null,
            "min_width": null,
            "object_fit": null,
            "object_position": null,
            "order": null,
            "overflow": null,
            "overflow_x": null,
            "overflow_y": null,
            "padding": null,
            "right": null,
            "top": null,
            "visibility": null,
            "width": null
          }
        },
        "a559376f36da430a902d3bac6baa82af": {
          "model_module": "@jupyter-widgets/base",
          "model_name": "LayoutModel",
          "model_module_version": "1.2.0",
          "state": {
            "_model_module": "@jupyter-widgets/base",
            "_model_module_version": "1.2.0",
            "_model_name": "LayoutModel",
            "_view_count": null,
            "_view_module": "@jupyter-widgets/base",
            "_view_module_version": "1.2.0",
            "_view_name": "LayoutView",
            "align_content": null,
            "align_items": null,
            "align_self": null,
            "border": null,
            "bottom": null,
            "display": null,
            "flex": null,
            "flex_flow": null,
            "grid_area": null,
            "grid_auto_columns": null,
            "grid_auto_flow": null,
            "grid_auto_rows": null,
            "grid_column": null,
            "grid_gap": null,
            "grid_row": null,
            "grid_template_areas": null,
            "grid_template_columns": null,
            "grid_template_rows": null,
            "height": null,
            "justify_content": null,
            "justify_items": null,
            "left": null,
            "margin": null,
            "max_height": null,
            "max_width": null,
            "min_height": null,
            "min_width": null,
            "object_fit": null,
            "object_position": null,
            "order": null,
            "overflow": null,
            "overflow_x": null,
            "overflow_y": null,
            "padding": null,
            "right": null,
            "top": null,
            "visibility": null,
            "width": null
          }
        },
        "bb8de152b6b940638a326dd8fe4a612e": {
          "model_module": "@jupyter-widgets/controls",
          "model_name": "DescriptionStyleModel",
          "model_module_version": "1.5.0",
          "state": {
            "_model_module": "@jupyter-widgets/controls",
            "_model_module_version": "1.5.0",
            "_model_name": "DescriptionStyleModel",
            "_view_count": null,
            "_view_module": "@jupyter-widgets/base",
            "_view_module_version": "1.2.0",
            "_view_name": "StyleView",
            "description_width": ""
          }
        },
        "41d6ff4d3f4c49deaa1371599907ba4e": {
          "model_module": "@jupyter-widgets/base",
          "model_name": "LayoutModel",
          "model_module_version": "1.2.0",
          "state": {
            "_model_module": "@jupyter-widgets/base",
            "_model_module_version": "1.2.0",
            "_model_name": "LayoutModel",
            "_view_count": null,
            "_view_module": "@jupyter-widgets/base",
            "_view_module_version": "1.2.0",
            "_view_name": "LayoutView",
            "align_content": null,
            "align_items": null,
            "align_self": null,
            "border": null,
            "bottom": null,
            "display": null,
            "flex": null,
            "flex_flow": null,
            "grid_area": null,
            "grid_auto_columns": null,
            "grid_auto_flow": null,
            "grid_auto_rows": null,
            "grid_column": null,
            "grid_gap": null,
            "grid_row": null,
            "grid_template_areas": null,
            "grid_template_columns": null,
            "grid_template_rows": null,
            "height": null,
            "justify_content": null,
            "justify_items": null,
            "left": null,
            "margin": null,
            "max_height": null,
            "max_width": null,
            "min_height": null,
            "min_width": null,
            "object_fit": null,
            "object_position": null,
            "order": null,
            "overflow": null,
            "overflow_x": null,
            "overflow_y": null,
            "padding": null,
            "right": null,
            "top": null,
            "visibility": null,
            "width": null
          }
        },
        "0dbde1b2a97a4728b7c1a13b9ab53b36": {
          "model_module": "@jupyter-widgets/controls",
          "model_name": "ProgressStyleModel",
          "model_module_version": "1.5.0",
          "state": {
            "_model_module": "@jupyter-widgets/controls",
            "_model_module_version": "1.5.0",
            "_model_name": "ProgressStyleModel",
            "_view_count": null,
            "_view_module": "@jupyter-widgets/base",
            "_view_module_version": "1.2.0",
            "_view_name": "StyleView",
            "bar_color": null,
            "description_width": ""
          }
        },
        "ca4588bf0d604e98853c678491f18669": {
          "model_module": "@jupyter-widgets/base",
          "model_name": "LayoutModel",
          "model_module_version": "1.2.0",
          "state": {
            "_model_module": "@jupyter-widgets/base",
            "_model_module_version": "1.2.0",
            "_model_name": "LayoutModel",
            "_view_count": null,
            "_view_module": "@jupyter-widgets/base",
            "_view_module_version": "1.2.0",
            "_view_name": "LayoutView",
            "align_content": null,
            "align_items": null,
            "align_self": null,
            "border": null,
            "bottom": null,
            "display": null,
            "flex": null,
            "flex_flow": null,
            "grid_area": null,
            "grid_auto_columns": null,
            "grid_auto_flow": null,
            "grid_auto_rows": null,
            "grid_column": null,
            "grid_gap": null,
            "grid_row": null,
            "grid_template_areas": null,
            "grid_template_columns": null,
            "grid_template_rows": null,
            "height": null,
            "justify_content": null,
            "justify_items": null,
            "left": null,
            "margin": null,
            "max_height": null,
            "max_width": null,
            "min_height": null,
            "min_width": null,
            "object_fit": null,
            "object_position": null,
            "order": null,
            "overflow": null,
            "overflow_x": null,
            "overflow_y": null,
            "padding": null,
            "right": null,
            "top": null,
            "visibility": null,
            "width": null
          }
        },
        "e200291257a54b7f9c7bd3e00b9ef3b8": {
          "model_module": "@jupyter-widgets/controls",
          "model_name": "DescriptionStyleModel",
          "model_module_version": "1.5.0",
          "state": {
            "_model_module": "@jupyter-widgets/controls",
            "_model_module_version": "1.5.0",
            "_model_name": "DescriptionStyleModel",
            "_view_count": null,
            "_view_module": "@jupyter-widgets/base",
            "_view_module_version": "1.2.0",
            "_view_name": "StyleView",
            "description_width": ""
          }
        },
        "781c1ad514674b028cc742f05cbaff60": {
          "model_module": "@jupyter-widgets/controls",
          "model_name": "HBoxModel",
          "model_module_version": "1.5.0",
          "state": {
            "_dom_classes": [],
            "_model_module": "@jupyter-widgets/controls",
            "_model_module_version": "1.5.0",
            "_model_name": "HBoxModel",
            "_view_count": null,
            "_view_module": "@jupyter-widgets/controls",
            "_view_module_version": "1.5.0",
            "_view_name": "HBoxView",
            "box_style": "",
            "children": [
              "IPY_MODEL_c9026311c559441fb0cc59c68117e15e",
              "IPY_MODEL_e69afdcadf1e4c9a9fa30d292ab61026",
              "IPY_MODEL_78e5966e98e145b79c2c7ac555a46b0b"
            ],
            "layout": "IPY_MODEL_c9691943ca8c4f4090a4a6212f9e7c9c"
          }
        },
        "c9026311c559441fb0cc59c68117e15e": {
          "model_module": "@jupyter-widgets/controls",
          "model_name": "HTMLModel",
          "model_module_version": "1.5.0",
          "state": {
            "_dom_classes": [],
            "_model_module": "@jupyter-widgets/controls",
            "_model_module_version": "1.5.0",
            "_model_name": "HTMLModel",
            "_view_count": null,
            "_view_module": "@jupyter-widgets/controls",
            "_view_module_version": "1.5.0",
            "_view_name": "HTMLView",
            "description": "",
            "description_tooltip": null,
            "layout": "IPY_MODEL_d76ee5850eac4835b9d6da6c0bd238d3",
            "placeholder": "​",
            "style": "IPY_MODEL_bd9834cacff841659e49c77b7e66272f",
            "value": "Downloading tokenizer.json: 100%"
          }
        },
        "e69afdcadf1e4c9a9fa30d292ab61026": {
          "model_module": "@jupyter-widgets/controls",
          "model_name": "FloatProgressModel",
          "model_module_version": "1.5.0",
          "state": {
            "_dom_classes": [],
            "_model_module": "@jupyter-widgets/controls",
            "_model_module_version": "1.5.0",
            "_model_name": "FloatProgressModel",
            "_view_count": null,
            "_view_module": "@jupyter-widgets/controls",
            "_view_module_version": "1.5.0",
            "_view_name": "ProgressView",
            "bar_style": "success",
            "description": "",
            "description_tooltip": null,
            "layout": "IPY_MODEL_d31e2c5df3d948c8bf2f8973252cab9d",
            "max": 1355863,
            "min": 0,
            "orientation": "horizontal",
            "style": "IPY_MODEL_a811ffc6147c4177aa436dcf55b3b3be",
            "value": 1355863
          }
        },
        "78e5966e98e145b79c2c7ac555a46b0b": {
          "model_module": "@jupyter-widgets/controls",
          "model_name": "HTMLModel",
          "model_module_version": "1.5.0",
          "state": {
            "_dom_classes": [],
            "_model_module": "@jupyter-widgets/controls",
            "_model_module_version": "1.5.0",
            "_model_name": "HTMLModel",
            "_view_count": null,
            "_view_module": "@jupyter-widgets/controls",
            "_view_module_version": "1.5.0",
            "_view_name": "HTMLView",
            "description": "",
            "description_tooltip": null,
            "layout": "IPY_MODEL_cb14a2027596450e8e6167a3d2c7bc33",
            "placeholder": "​",
            "style": "IPY_MODEL_c0e7c7383e374d09813bd28d8f038119",
            "value": " 1.29M/1.29M [00:00&lt;00:00, 15.6MB/s]"
          }
        },
        "c9691943ca8c4f4090a4a6212f9e7c9c": {
          "model_module": "@jupyter-widgets/base",
          "model_name": "LayoutModel",
          "model_module_version": "1.2.0",
          "state": {
            "_model_module": "@jupyter-widgets/base",
            "_model_module_version": "1.2.0",
            "_model_name": "LayoutModel",
            "_view_count": null,
            "_view_module": "@jupyter-widgets/base",
            "_view_module_version": "1.2.0",
            "_view_name": "LayoutView",
            "align_content": null,
            "align_items": null,
            "align_self": null,
            "border": null,
            "bottom": null,
            "display": null,
            "flex": null,
            "flex_flow": null,
            "grid_area": null,
            "grid_auto_columns": null,
            "grid_auto_flow": null,
            "grid_auto_rows": null,
            "grid_column": null,
            "grid_gap": null,
            "grid_row": null,
            "grid_template_areas": null,
            "grid_template_columns": null,
            "grid_template_rows": null,
            "height": null,
            "justify_content": null,
            "justify_items": null,
            "left": null,
            "margin": null,
            "max_height": null,
            "max_width": null,
            "min_height": null,
            "min_width": null,
            "object_fit": null,
            "object_position": null,
            "order": null,
            "overflow": null,
            "overflow_x": null,
            "overflow_y": null,
            "padding": null,
            "right": null,
            "top": null,
            "visibility": null,
            "width": null
          }
        },
        "d76ee5850eac4835b9d6da6c0bd238d3": {
          "model_module": "@jupyter-widgets/base",
          "model_name": "LayoutModel",
          "model_module_version": "1.2.0",
          "state": {
            "_model_module": "@jupyter-widgets/base",
            "_model_module_version": "1.2.0",
            "_model_name": "LayoutModel",
            "_view_count": null,
            "_view_module": "@jupyter-widgets/base",
            "_view_module_version": "1.2.0",
            "_view_name": "LayoutView",
            "align_content": null,
            "align_items": null,
            "align_self": null,
            "border": null,
            "bottom": null,
            "display": null,
            "flex": null,
            "flex_flow": null,
            "grid_area": null,
            "grid_auto_columns": null,
            "grid_auto_flow": null,
            "grid_auto_rows": null,
            "grid_column": null,
            "grid_gap": null,
            "grid_row": null,
            "grid_template_areas": null,
            "grid_template_columns": null,
            "grid_template_rows": null,
            "height": null,
            "justify_content": null,
            "justify_items": null,
            "left": null,
            "margin": null,
            "max_height": null,
            "max_width": null,
            "min_height": null,
            "min_width": null,
            "object_fit": null,
            "object_position": null,
            "order": null,
            "overflow": null,
            "overflow_x": null,
            "overflow_y": null,
            "padding": null,
            "right": null,
            "top": null,
            "visibility": null,
            "width": null
          }
        },
        "bd9834cacff841659e49c77b7e66272f": {
          "model_module": "@jupyter-widgets/controls",
          "model_name": "DescriptionStyleModel",
          "model_module_version": "1.5.0",
          "state": {
            "_model_module": "@jupyter-widgets/controls",
            "_model_module_version": "1.5.0",
            "_model_name": "DescriptionStyleModel",
            "_view_count": null,
            "_view_module": "@jupyter-widgets/base",
            "_view_module_version": "1.2.0",
            "_view_name": "StyleView",
            "description_width": ""
          }
        },
        "d31e2c5df3d948c8bf2f8973252cab9d": {
          "model_module": "@jupyter-widgets/base",
          "model_name": "LayoutModel",
          "model_module_version": "1.2.0",
          "state": {
            "_model_module": "@jupyter-widgets/base",
            "_model_module_version": "1.2.0",
            "_model_name": "LayoutModel",
            "_view_count": null,
            "_view_module": "@jupyter-widgets/base",
            "_view_module_version": "1.2.0",
            "_view_name": "LayoutView",
            "align_content": null,
            "align_items": null,
            "align_self": null,
            "border": null,
            "bottom": null,
            "display": null,
            "flex": null,
            "flex_flow": null,
            "grid_area": null,
            "grid_auto_columns": null,
            "grid_auto_flow": null,
            "grid_auto_rows": null,
            "grid_column": null,
            "grid_gap": null,
            "grid_row": null,
            "grid_template_areas": null,
            "grid_template_columns": null,
            "grid_template_rows": null,
            "height": null,
            "justify_content": null,
            "justify_items": null,
            "left": null,
            "margin": null,
            "max_height": null,
            "max_width": null,
            "min_height": null,
            "min_width": null,
            "object_fit": null,
            "object_position": null,
            "order": null,
            "overflow": null,
            "overflow_x": null,
            "overflow_y": null,
            "padding": null,
            "right": null,
            "top": null,
            "visibility": null,
            "width": null
          }
        },
        "a811ffc6147c4177aa436dcf55b3b3be": {
          "model_module": "@jupyter-widgets/controls",
          "model_name": "ProgressStyleModel",
          "model_module_version": "1.5.0",
          "state": {
            "_model_module": "@jupyter-widgets/controls",
            "_model_module_version": "1.5.0",
            "_model_name": "ProgressStyleModel",
            "_view_count": null,
            "_view_module": "@jupyter-widgets/base",
            "_view_module_version": "1.2.0",
            "_view_name": "StyleView",
            "bar_color": null,
            "description_width": ""
          }
        },
        "cb14a2027596450e8e6167a3d2c7bc33": {
          "model_module": "@jupyter-widgets/base",
          "model_name": "LayoutModel",
          "model_module_version": "1.2.0",
          "state": {
            "_model_module": "@jupyter-widgets/base",
            "_model_module_version": "1.2.0",
            "_model_name": "LayoutModel",
            "_view_count": null,
            "_view_module": "@jupyter-widgets/base",
            "_view_module_version": "1.2.0",
            "_view_name": "LayoutView",
            "align_content": null,
            "align_items": null,
            "align_self": null,
            "border": null,
            "bottom": null,
            "display": null,
            "flex": null,
            "flex_flow": null,
            "grid_area": null,
            "grid_auto_columns": null,
            "grid_auto_flow": null,
            "grid_auto_rows": null,
            "grid_column": null,
            "grid_gap": null,
            "grid_row": null,
            "grid_template_areas": null,
            "grid_template_columns": null,
            "grid_template_rows": null,
            "height": null,
            "justify_content": null,
            "justify_items": null,
            "left": null,
            "margin": null,
            "max_height": null,
            "max_width": null,
            "min_height": null,
            "min_width": null,
            "object_fit": null,
            "object_position": null,
            "order": null,
            "overflow": null,
            "overflow_x": null,
            "overflow_y": null,
            "padding": null,
            "right": null,
            "top": null,
            "visibility": null,
            "width": null
          }
        },
        "c0e7c7383e374d09813bd28d8f038119": {
          "model_module": "@jupyter-widgets/controls",
          "model_name": "DescriptionStyleModel",
          "model_module_version": "1.5.0",
          "state": {
            "_model_module": "@jupyter-widgets/controls",
            "_model_module_version": "1.5.0",
            "_model_name": "DescriptionStyleModel",
            "_view_count": null,
            "_view_module": "@jupyter-widgets/base",
            "_view_module_version": "1.2.0",
            "_view_name": "StyleView",
            "description_width": ""
          }
        }
      }
    }
  },
  "cells": [
    {
      "cell_type": "markdown",
      "metadata": {
        "id": "view-in-github",
        "colab_type": "text"
      },
      "source": [
        "<a href=\"https://colab.research.google.com/github/rama96/hugging-face/blob/master/2_using_transformers.ipynb\" target=\"_parent\"><img src=\"https://colab.research.google.com/assets/colab-badge.svg\" alt=\"Open In Colab\"/></a>"
      ]
    },
    {
      "cell_type": "code",
      "execution_count": 1,
      "metadata": {
        "colab": {
          "base_uri": "https://localhost:8080/"
        },
        "id": "RZNXn8lMtwPc",
        "outputId": "d06f0784-36f0-426f-d6d1-acc62f5bf270"
      },
      "outputs": [
        {
          "output_type": "stream",
          "name": "stdout",
          "text": [
            "Looking in indexes: https://pypi.org/simple, https://us-python.pkg.dev/colab-wheels/public/simple/\n",
            "Collecting transformers\n",
            "  Downloading transformers-4.21.2-py3-none-any.whl (4.7 MB)\n",
            "\u001b[K     |████████████████████████████████| 4.7 MB 32.0 MB/s \n",
            "\u001b[?25hRequirement already satisfied: numpy>=1.17 in /usr/local/lib/python3.7/dist-packages (from transformers) (1.21.6)\n",
            "Collecting huggingface-hub<1.0,>=0.1.0\n",
            "  Downloading huggingface_hub-0.9.1-py3-none-any.whl (120 kB)\n",
            "\u001b[K     |████████████████████████████████| 120 kB 91.6 MB/s \n",
            "\u001b[?25hRequirement already satisfied: requests in /usr/local/lib/python3.7/dist-packages (from transformers) (2.23.0)\n",
            "Requirement already satisfied: filelock in /usr/local/lib/python3.7/dist-packages (from transformers) (3.8.0)\n",
            "Requirement already satisfied: importlib-metadata in /usr/local/lib/python3.7/dist-packages (from transformers) (4.12.0)\n",
            "Requirement already satisfied: regex!=2019.12.17 in /usr/local/lib/python3.7/dist-packages (from transformers) (2022.6.2)\n",
            "Requirement already satisfied: tqdm>=4.27 in /usr/local/lib/python3.7/dist-packages (from transformers) (4.64.0)\n",
            "Requirement already satisfied: packaging>=20.0 in /usr/local/lib/python3.7/dist-packages (from transformers) (21.3)\n",
            "Collecting tokenizers!=0.11.3,<0.13,>=0.11.1\n",
            "  Downloading tokenizers-0.12.1-cp37-cp37m-manylinux_2_12_x86_64.manylinux2010_x86_64.whl (6.6 MB)\n",
            "\u001b[K     |████████████████████████████████| 6.6 MB 54.4 MB/s \n",
            "\u001b[?25hRequirement already satisfied: pyyaml>=5.1 in /usr/local/lib/python3.7/dist-packages (from transformers) (6.0)\n",
            "Requirement already satisfied: typing-extensions>=3.7.4.3 in /usr/local/lib/python3.7/dist-packages (from huggingface-hub<1.0,>=0.1.0->transformers) (4.1.1)\n",
            "Requirement already satisfied: pyparsing!=3.0.5,>=2.0.2 in /usr/local/lib/python3.7/dist-packages (from packaging>=20.0->transformers) (3.0.9)\n",
            "Requirement already satisfied: zipp>=0.5 in /usr/local/lib/python3.7/dist-packages (from importlib-metadata->transformers) (3.8.1)\n",
            "Requirement already satisfied: urllib3!=1.25.0,!=1.25.1,<1.26,>=1.21.1 in /usr/local/lib/python3.7/dist-packages (from requests->transformers) (1.24.3)\n",
            "Requirement already satisfied: idna<3,>=2.5 in /usr/local/lib/python3.7/dist-packages (from requests->transformers) (2.10)\n",
            "Requirement already satisfied: chardet<4,>=3.0.2 in /usr/local/lib/python3.7/dist-packages (from requests->transformers) (3.0.4)\n",
            "Requirement already satisfied: certifi>=2017.4.17 in /usr/local/lib/python3.7/dist-packages (from requests->transformers) (2022.6.15)\n",
            "Installing collected packages: tokenizers, huggingface-hub, transformers\n",
            "Successfully installed huggingface-hub-0.9.1 tokenizers-0.12.1 transformers-4.21.2\n"
          ]
        }
      ],
      "source": [
        "!pip install transformers"
      ]
    },
    {
      "cell_type": "code",
      "source": [
        "from transformers import pipeline\n"
      ],
      "metadata": {
        "id": "ejIGHNFatywH"
      },
      "execution_count": 2,
      "outputs": []
    },
    {
      "cell_type": "markdown",
      "source": [
        "## 1. Tokenization step\n",
        "Raw text - > <br> Tokens -> <br> Special Tokens -> <br> Input IDs\n",
        "\n",
        "\n",
        "<br><br>\n",
        "\n",
        "[This course is amazing !] - > <br>\n",
        "[this , course , is , amazing , ! ] - > <br>\n",
        "[[CLS], this , course , is , amazing , ! , [SEP]] -> <br>\n",
        "[ 1, 132 , 123 , 23 ,44, 55]"
      ],
      "metadata": {
        "id": "3sABdrFwuA-F"
      }
    },
    {
      "cell_type": "code",
      "source": [
        "from transformers import AutoTokenizer\n",
        "checkpoint = \"distilbert-base-uncased-finetuned-sst-2-english\"\n",
        "\n",
        "# Most common method\n",
        "tokenizer = AutoTokenizer.from_pretrained(checkpoint)\n",
        "\n",
        "raw_inputs = ['This is an example of how tokenizer works',\n",
        "              'Magnus Carlsen is the best chess player in the world']\n",
        "inputs = tokenizer(raw_inputs ,\n",
        "                   padding = True , \n",
        "                   truncation = True , # Any input sentence with more than max_length is truncated\n",
        "                   return_tensors='pt' # To return PyTorch tensors\n",
        "                   )\n",
        "print(inputs)"
      ],
      "metadata": {
        "colab": {
          "base_uri": "https://localhost:8080/"
        },
        "id": "Ci2LM0Tft9NE",
        "outputId": "3ce8546a-7dc7-48cf-9d84-310b33335946"
      },
      "execution_count": 6,
      "outputs": [
        {
          "output_type": "stream",
          "name": "stdout",
          "text": [
            "{'input_ids': tensor([[  101,  2023,  2003,  2019,  2742,  1997,  2129, 19204, 17629,  2573,\n",
            "           102,     0,     0],\n",
            "        [  101, 10045,  5529,  5054,  2003,  1996,  2190,  7433,  2447,  1999,\n",
            "          1996,  2088,   102]]), 'attention_mask': tensor([[1, 1, 1, 1, 1, 1, 1, 1, 1, 1, 1, 0, 0],\n",
            "        [1, 1, 1, 1, 1, 1, 1, 1, 1, 1, 1, 1, 1]])}\n"
          ]
        }
      ]
    },
    {
      "cell_type": "markdown",
      "source": [
        "##2. Going through the model "
      ],
      "metadata": {
        "id": "tMFD4djdwH-j"
      }
    },
    {
      "cell_type": "markdown",
      "source": [
        "### 2.1 Automodel"
      ],
      "metadata": {
        "id": "mJIM8yDoyjBU"
      }
    },
    {
      "cell_type": "code",
      "source": [
        "from transformers import AutoModel\n",
        "\n",
        "checkpoint = \"distilbert-base-uncased-finetuned-sst-2-english\"\n",
        "model = AutoModel.from_pretrained(checkpoint)\n",
        "\n",
        "# it downloads and caches the configuration of the model as well as the pretrained weights . \n",
        "# It only instantiates the body of the model with pre-trained head is removed. "
      ],
      "metadata": {
        "colab": {
          "base_uri": "https://localhost:8080/"
        },
        "id": "Cb2J194vvdB6",
        "outputId": "f189767e-0241-4011-bb36-e4046f3cf064"
      },
      "execution_count": 9,
      "outputs": [
        {
          "output_type": "stream",
          "name": "stderr",
          "text": [
            "Some weights of the model checkpoint at distilbert-base-uncased-finetuned-sst-2-english were not used when initializing DistilBertModel: ['classifier.bias', 'pre_classifier.bias', 'classifier.weight', 'pre_classifier.weight']\n",
            "- This IS expected if you are initializing DistilBertModel from the checkpoint of a model trained on another task or with another architecture (e.g. initializing a BertForSequenceClassification model from a BertForPreTraining model).\n",
            "- This IS NOT expected if you are initializing DistilBertModel from the checkpoint of a model that you expect to be exactly identical (initializing a BertForSequenceClassification model from a BertForSequenceClassification model).\n"
          ]
        }
      ]
    },
    {
      "cell_type": "code",
      "source": [
        "outputs = model(**inputs)\n",
        "print(outputs.last_hidden_state.shape)"
      ],
      "metadata": {
        "colab": {
          "base_uri": "https://localhost:8080/"
        },
        "id": "bqn4oHzCwchO",
        "outputId": "3a75f87a-ffe3-41a9-92c7-dfcad5a9e1d4"
      },
      "execution_count": 8,
      "outputs": [
        {
          "output_type": "stream",
          "name": "stdout",
          "text": [
            "torch.Size([2, 13, 768])\n"
          ]
        }
      ]
    },
    {
      "cell_type": "markdown",
      "source": [
        "2 => BatchSize (Because of 2 input examples ) <br>\n",
        "13 => Length of the numerical representation of the sequence <br>\n",
        "768 => Hidden size , Larger models have larger hidden size values <br>"
      ],
      "metadata": {
        "id": "Sr963TPtwlaJ"
      }
    },
    {
      "cell_type": "markdown",
      "source": [
        "### 2.2 AutoModelForSequenceClassification\n",
        "\n",
        "AutoModelForXxx class loads the model for a specific task . In this case , it's exactly like an Automodel but with a classification head\n",
        "\n",
        "*Model (retrieve the hidden states) <br>\n",
        "*ForCausalLM <br>\n",
        "*ForMaskedLM <br>\n",
        "*ForMultipleChoice<br>\n",
        "*ForQuestionAnswering<br>\n",
        "*ForSequenceClassification<br>\n",
        "*ForTokenClassification<br>\n",
        "and others 🤗<br>"
      ],
      "metadata": {
        "id": "Vv9a67FRynO1"
      }
    },
    {
      "cell_type": "code",
      "source": [
        "from transformers import AutoModelForSequenceClassification\n",
        "\n",
        "checkpoint = \"distilbert-base-uncased-finetuned-sst-2-english\"\n",
        "model = AutoModelForSequenceClassification.from_pretrained(checkpoint)\n",
        "\n",
        "output = model(**inputs)\n",
        "print(output.logits)"
      ],
      "metadata": {
        "colab": {
          "base_uri": "https://localhost:8080/"
        },
        "id": "_uAWzExqwgbu",
        "outputId": "9337ac74-8900-49ec-c0fd-648a896f0548"
      },
      "execution_count": 10,
      "outputs": [
        {
          "output_type": "stream",
          "name": "stdout",
          "text": [
            "tensor([[-3.1381,  3.2573],\n",
            "        [-4.2419,  4.5853]], grad_fn=<AddmmBackward0>)\n"
          ]
        }
      ]
    },
    {
      "cell_type": "markdown",
      "source": [
        "These are logits and are not output from activations. So to convert these into probabilities apply Softmax \n"
      ],
      "metadata": {
        "id": "r8hw5k8OzUkY"
      }
    },
    {
      "cell_type": "markdown",
      "source": [
        "## 3. PostProcessing"
      ],
      "metadata": {
        "id": "wHaSPC2uzeC6"
      }
    },
    {
      "cell_type": "code",
      "source": [
        "import torch\n",
        "\n",
        "predictions = torch.nn.functional.softmax(output.logits, dim = -1)\n",
        "print(predictions)\n"
      ],
      "metadata": {
        "colab": {
          "base_uri": "https://localhost:8080/"
        },
        "id": "lXeXQlrtzASo",
        "outputId": "7eac6463-e369-4901-8a0b-664843740e80"
      },
      "execution_count": 12,
      "outputs": [
        {
          "output_type": "stream",
          "name": "stdout",
          "text": [
            "tensor([[1.6664e-03, 9.9833e-01],\n",
            "        [1.4668e-04, 9.9985e-01]], grad_fn=<SoftmaxBackward0>)\n"
          ]
        }
      ]
    },
    {
      "cell_type": "code",
      "source": [
        "model.config.id2label\n",
        "# Helps to understand the prediction labels 1\n",
        "# in this case , both are classified as positive statements "
      ],
      "metadata": {
        "colab": {
          "base_uri": "https://localhost:8080/"
        },
        "id": "LqQRzyWdztb6",
        "outputId": "a8f5b152-2804-4da3-b5ce-c9799e70ff7d"
      },
      "execution_count": 14,
      "outputs": [
        {
          "output_type": "execute_result",
          "data": {
            "text/plain": [
              "{0: 'NEGATIVE', 1: 'POSITIVE'}"
            ]
          },
          "metadata": {},
          "execution_count": 14
        }
      ]
    },
    {
      "cell_type": "markdown",
      "source": [
        "![image.png](data:image/png;base64,iVBORw0KGgoAAAANSUhEUgAABHoAAAGzCAYAAABQEHCuAAAKwGlDQ1BJQ0MgUHJvZmlsZQAASImVlwdQk9kWgO//pzdKEiIgJfQmvQWQEnoApVdRCUkgoYSQEBDsiriCK4qKCFZ0VUTBVSmyFkQU26LYsKALsqgo62LBhsr7gUfYfW/ee/POzJn7zfnPPeXOvTPnB4CC5kokGbAKAJniHGlEgDczLj6BiXsG0IAKyEAfqHF5Mgk7LCwEIDK1/l0+3APQ+HrbcjzWv3//r6LKF8h4AEBhCCfzZbxMhE8i+pInkeYAgNqD2A3yciTj3I4wXYoUiPD9cU6d5KFxTp5gNJjwiYrwQZgOAJ7M5UpTASAzETszl5eKxCF7IWwj5ovECEsQ9uAJuXyEjyE8KzMza5x7EDZN/kuc1L/FTFbE5HJTFTzZy4TgfUUySQY3//88jv8tmRnyqRzGiJKF0sAIZKUiZ3Y/PStYweLkuaFTLOJP+E+wUB4YPcU8mU/CFPO5vsGKvRlzQ6Y4ReTPUcTJ4URNsUDmFznF0qwIRa4UqQ97irnS6bzy9GiFXSjgKOIXCKNipzhXFDN3imXpkcHTPj4Ku1QeoahfIA7wns7rr+g9U/aXfkUcxd4cYVSgonfudP0CMXs6pixOURtf4Os37ROt8JfkeCtySTLCFP6CjACFXZYbqdibg1zI6b1hijNM4waFTTEIAQGACQKBL4hAVgeAdJ8jWJQz3ohPliRfKkoV5jDZyAsTMDlintUspp2NnR0A4+918jq8Y0y8Q4hxddqW3w0AKxyBxGlb1AMAWpC8pKppmylylyhJAHQ48uTS3EnbxFvCACJQBnSgAXSAATAFlsAOOAE34AX8QBAIBVEgHiwAPCAEmUAK8sASsBIUgRKwEWwFlWA32AcOgaPgOGgCp8F5cAlcAzfBXfAI9IIB8AoMgw9gFIIgHESBaJAGpAsZQRaQHcSCPCA/KASKgOKhJCgVEkNyaAm0GiqByqBKaC9UA/0MnYLOQ1egLugB1AcNQm+hLzAKJsN0WBs2hq1hFsyGg+EoeD6cCmfDBXAhvAGugKvhI3AjfB6+Bt+Fe+FX8AgKoEgoBkoPZYlioXxQoagEVApKilqGKkaVo6pRdagWVAfqNqoXNYT6jMaiaWgm2hLthg5ER6N56Gz0MvR6dCX6ELoR3Y6+je5DD6O/YygYLYwFxhXDwcRhUjF5mCJMOeYApgFzEXMXM4D5gMViGVgTrDM2EBuPTcMuxq7H7sTWY1uxXdh+7AgOh9PAWeDccaE4Li4HV4TbjjuCO4e7hRvAfcKT8Lp4O7w/PgEvxq/Cl+MP48/ib+Gf40cJKgQjgishlMAn5BNKCfsJLYQbhAHCKFGVaEJ0J0YR04griRXEOuJFYg/xHYlE0ie5kMJJItIKUgXpGOkyqY/0mUwlm5N9yIlkOXkD+SC5lfyA/I5CoRhTvCgJlBzKBkoN5QLlCeWTEk3JSomjxFdarlSl1Kh0S+m1MkHZSJmtvEC5QLlc+YTyDeUhFYKKsYqPCldlmUqVyimVbpURVZqqrWqoaqbqetXDqldUX1BxVGOqH5VPLaTuo16g9tNQNAOaD41HW03bT7tIG6Bj6SZ0Dj2NXkI/Su+kD6tR1RzUYtQWqVWpnVHrZaAYxgwOI4NRyjjOuMf4MkN7BnuGYMa6GXUzbs34qD5T3UtdoF6sXq9+V/2LBlPDTyNdY5NGk8ZjTbSmuWa4Zp7mLs2LmkMz6TPdZvJmFs88PvOhFqxlrhWhtVhrn9Z1rRFtHe0AbYn2du0L2kM6DB0vnTSdLTpndQZ1aboeuiLdLbrndF8y1ZhsZgazgtnOHNbT0gvUk+vt1evUG9U30Y/WX6Vfr//YgGjAMkgx2GLQZjBsqGs4x3CJYa3hQyOCEctIaLTNqMPoo7GJcazxWuMm4xcm6iYckwKTWpMeU4qpp2m2abXpHTOsGcss3Wyn2U1z2NzRXGheZX7DArZwshBZ7LTomoWZ5TJLPKt6Vrcl2ZJtmWtZa9lnxbAKsVpl1WT12trQOsF6k3WH9XcbR5sMm/02j2yptkG2q2xbbN/amdvx7Krs7thT7P3tl9s3279xsHAQOOxyuO9Ic5zjuNaxzfGbk7OT1KnOadDZ0DnJeYdzN4vOCmOtZ112wbh4uyx3Oe3y2dXJNcf1uOufbpZu6W6H3V7MNpktmL1/dr+7vjvXfa97rwfTI8ljj0evp54n17Pa86mXgRff64DXc7YZO419hP3a28Zb6t3g/dHH1WepT6svyjfAt9i304/qF+1X6ffEX98/1b/WfzjAMWBxQGsgJjA4cFNgN0ebw+PUcIaDnIOWBrUHk4MjgyuDn4aYh0hDWubAc4LmbJ7TM9dornhuUygI5YRuDn0cZhKWHfZLODY8LLwq/FmEbcSSiI5IWuTCyMORH6K8o0qjHkWbRsuj22KUYxJjamI+xvrGlsX2xlnHLY27Fq8ZL4pvTsAlxCQcSBiZ5zdv67yBRMfEosR7803mL5p/ZYHmgowFZxYqL+QuPJGESYpNOpz0lRvKreaOJHOSdyQP83x423iv+F78LfxBgbugTPA8xT2lLOVFqnvq5tRBoaewXDgk8hFVit6kBabtTvuYHpp+MH0sIzajPhOfmZR5SkwVp4vbs3SyFmV1SSwkRZLebNfsrdnD0mDpARkkmy9rzqEjg9F1ual8jbwv1yO3KvdTXkzeiUWqi8SLrueb56/Lf17gX/DTYvRi3uK2JXpLVi7pW8peuncZtCx5Wdtyg+WFywdWBKw4tJK4Mn3lr6tsVpWter86dnVLoXbhisL+NQFraouUiqRF3Wvd1u7+Af2D6IfOdfbrtq/7XswvvlpiU1Je8nU9b/3VH21/rPhxbEPKhs5Sp9JdG7EbxRvvbfLcdKhMtaygrH/znM2NW5hbire837pw65Vyh/Ld24jb5Nt6K0Iqmrcbbt+4/WulsPJulXdV/Q6tHet2fNzJ33lrl9euut3au0t2f9kj2nN/b8Dexmrj6vJ92H25+57tj9nf8RPrp5oDmgdKDnw7KD7YeyjiUHuNc03NYa3DpbVwrbx28EjikZtHfY8211nW7a1n1JccA8fkx17+nPTzvePBx9tOsE7UnTQ6uaOB1lDcCDXmNw43CZt6m+Obu04FnWprcWtp+MXql4On9U5XnVE7U3qWeLbw7Ni5gnMjrZLWofOp5/vbFrY9uhB34U57eHvnxeCLly/5X7rQwe44d9n98ukrrldOXWVdbbrmdK3xuuP1hl8df23odOpsvOF8o/mmy82WrtldZ2953jp/2/f2pTucO9fuzr3bdS/63v3uxO7e+/z7Lx5kPHjzMPfh6KMVPZie4scqj8ufaD2p/s3st/pep94zfb59159GPn3Uz+t/9bvs968Dhc8oz8qf6z6veWH34vSg/+DNl/NeDrySvBodKvpD9Y8dr01fn/zT68/rw3HDA2+kb8bern+n8e7ge4f3bSNhI08+ZH4Y/Vj8SePToc+szx1fYr88H837ivta8c3sW8v34O89Y5ljYxKulDsxCqAQhVNSAHh7EJkT4gGg3QSAOG9ynp4QaPIfYILAf+LJmXtCnACoQ5awVgACED2yAgCT8XEW4fGRKMoLwPb2Cv2nyFLs7SZjkZHJEvNpbOydNgC4FgC+ScfGRneOjX3bjxSLzDet2ZNz/LjoIP8UeTgAJ5Y+3EZ9Df5F/gFwtw7M+oQD9gAAAgVpVFh0WE1MOmNvbS5hZG9iZS54bXAAAAAAADx4OnhtcG1ldGEgeG1sbnM6eD0iYWRvYmU6bnM6bWV0YS8iIHg6eG1wdGs9IlhNUCBDb3JlIDUuNC4wIj4KICAgPHJkZjpSREYgeG1sbnM6cmRmPSJodHRwOi8vd3d3LnczLm9yZy8xOTk5LzAyLzIyLXJkZi1zeW50YXgtbnMjIj4KICAgICAgPHJkZjpEZXNjcmlwdGlvbiByZGY6YWJvdXQ9IiIKICAgICAgICAgICAgeG1sbnM6ZXhpZj0iaHR0cDovL25zLmFkb2JlLmNvbS9leGlmLzEuMC8iCiAgICAgICAgICAgIHhtbG5zOnRpZmY9Imh0dHA6Ly9ucy5hZG9iZS5jb20vdGlmZi8xLjAvIj4KICAgICAgICAgPGV4aWY6UGl4ZWxZRGltZW5zaW9uPjQzNTwvZXhpZjpQaXhlbFlEaW1lbnNpb24+CiAgICAgICAgIDxleGlmOlBpeGVsWERpbWVuc2lvbj4xMTQ2PC9leGlmOlBpeGVsWERpbWVuc2lvbj4KICAgICAgICAgPHRpZmY6T3JpZW50YXRpb24+MTwvdGlmZjpPcmllbnRhdGlvbj4KICAgICAgPC9yZGY6RGVzY3JpcHRpb24+CiAgIDwvcmRmOlJERj4KPC94OnhtcG1ldGE+CorKiV4AAEAASURBVHgB7d17kCXXXSDoc6vfr6pqtdSS9eqWMNhIWC0cbKwIkC0TsYMHy0iwzNqDbSS8sXh4xFryLgbbEchyhB94NrBNYFjvxBgJbAMz7FjCNgj+wJI1jD0TBFbLY5iBxVK3LFlqSd3V76p+VO75ZSmLUqu6ux733srHdzqq69a9mXnyfCfznsxfnjzZK3JKEgECBAgQIECAAAECBAgQIECAQOMFRhpfAgUgQIAAAQIECBAgQIAAAQIECBAoBQR6bAgECBAgQIAAAQIECBAgQIAAgZYICPS0pCIVgwABAgQIECBAgAABAgQIECAg0GMbIECAAAECBAgQIECAAAECBAi0RECgpyUVqRgECBAgQIAAAQIECBAgQIAAAYEe2wABAgQIECBAgAABAgQIECBAoCUCAj0tqUjFIECAAAECBAgQIECAAAECBAgI9NgGCBAgQIAAAQIECBAgQIAAAQItERDoaUlFKgYBAgQIECBAgAABAgQIECBAQKDHNkCAAAECBAgQIECAAAECBAgQaImAQE9LKlIxCBAgQIAAAQIECBAgQIAAAQICPbYBAgQIECBAgAABAgQIECBAgEBLBAR6WlKRikGAAAECBAgQIECAAAECBAgQEOixDRAgQIAAAQIECBAgQIAAAQIEWiIg0NOSilQMAgQIECBAgAABAgQIECBAgIBAj22AAAECBAgQIECAAAECBAgQINASAYGellSkYhAgQIAAAQIECBAgQIAAAQIEBHpsAwQIECBAgAABAgQIECBAgACBlggI9LSkIhWDAAECBAgQIECAAAECBAgQICDQYxsgQIAAAQIECBAgQIAAAQIECLREQKCnJRWpGAQIECBAgAABAgQIECBAgAABgR7bAAECBAgQIECAAAECBAgQIECgJQICPS2pSMUgQIAAAQIECBAgQIAAAQIECAj02AYIECBAgAABAgQIECBAgAABAi0REOhpSUUqBgECBAgQIECAAAECBAgQIEBAoMc2QIAAAQIECBAgQIAAAQIECBBoiYBAT0sqUjEIECBAgAABAgQIECBAgAABAgI9tgECBAgQIECAAAECBAgQIECAQEsEBHpaUpGKQYAAAQIECBAgQIAAAQIECBAQ6LENECBAgAABAgQIECBAgAABAgRaIiDQ05KKVAwCBAgQIECAAAECBAgQIECAgECPbYAAAQIECBAgQIAAAQIECBAg0BIBgZ6WVKRiECBAgAABAgQIECBAgAABAgQEemwDBAgQIECAAAECBAgQIECAAIGWCAj0tKQiFYMAAQIECBAgQIAAAQIECBAgINBjGyBAgAABAgQIECBAgAABAgQItERAoKclFakYBAgQIECAAAECBAgQIECAAAGBHtsAAQIECBAgQIAAAQIECBAgQKAlAgI9LalIxSBAgAABAgQIECBAgAABAgQICPTYBggQIEBgUQITExPpoYcemv155JFHFjX/fBM/+OCD6fbbb0+PP/74fB838r177rmnkettpQkQIECAAAECBJotINDT7Pqz9gQIEBi6QAR6vvzlL6e77rqr/N2PQM/73//+FIGRnTt3Dr0882V4xx13zPf2ot5rU9BqUQU3MQECBAgQIECAwIoKrF7R3GVOgAABAo0TiGBMBGaqnyhA1XslghvXX399ih46Bw8eTL/7u7+bIhAUP/FeNW+8vu+++8qyR0+e3bt3p9e97nXp85//fLrzzjtTURTp1ltvLX8i6BLLjADT+Ph4OU/MH/PFMvbs2VPOFx/EOsV08VnME79jnurvWI9qXav1i+k//vGPz84X09x7773lOt1yyy3lOsSyY5r4iflvuummskyRf6/XSx/72MfK3kixXjF/rEeV4nWUoVr36n2/CRAgQIAAAQIECAxCYPUgFmqZBAgQINAtgQjwVEGceB1BmghwROAjUhVgiQBJpPgsgiRV8GPXrl1l76B4/7bbbisDKbGMKqBSvY7PI4ATAZf4LJYfr+N35BHvxU9MH8uv3q/yiaBOrF98FsGX+Dx+qvnivSqYE72WqmXEOsfyI8X0sfwI+FSfV+tT/V1OmP+L9Y1lV/lX7/tNgAABAgQIECBAYFACqwe1YMslQIAAgW4JRKAnUgRCIihSBV7ivTMDHREYiSBI1RsmpokU88b7kSKgUwVXIlhSpVjW3J/q/SqAU/0dv2Odzsw7lhupej/yjJ/5UuRb9caJXkHVdLFe1XJimljn+B0/Vbr//vvLnkkxn0SAAAECBAgQIEBgWAIjw8pIPgQIECDQDYHo6RKBnCoQMl+pI8gS0xw4cKC8ZaqaJgIlMX+kucGU8o3z/BdBnehpE8GYKiBznlnKj2OeKogTPXLmpljP6paxWLcqoFMFoeKzyGtugKeaf8eOHeVnESiSCBAgQIAAAQIECAxLYFU+aH3/sDKTDwECBAi0S6DqxROlqnrPRPDjIx/5SBl0eeUrXznb+6aaNoIkEVCJ5ueGG26YDZLE+xEwic+qHj9z56nkqnzi7yqYFO+9/vWvTw888EC53AjQRN5zpyn/yP/FZ9Vyq/mq9bnkkkvK+aoyvPnNb07xXkwXecX7kU81XQRxJicnyzxj+XOXXU2zfv36FD/xmUSAAAECBAgQIEBg0AK9POBlMehMLJ8AAQIECBAgQIAAAQIECBAgQGDwAm7dGryxHAgQIECAAAECBAgQIECAAAECQxEQ6BkKs0wIECBAgAABAgQIECBAgAABAoMXEOgZvLEcCBAgQIAAAQIECBAgQIAAAQJDERDoGQqzTAgQIECAAAECBAgQIECAAAECgxcQ6Bm8sRwIECBAYAgCTz75ZHr66aeHkJMsCBAgQIAAAQIECNRXQKCnvnVjzQgQIECAAAECBAgQIECAAAECixIQ6FkUl4kJECBAgAABAgQIECBAgAABAvUVEOipb91YMwIECBAgQIAAAQIECBAgQIDAogQEehbFZWICBAgQIECAAAECBAgQIECAQH0FBHrqWzfWjAABAgQIECBAgAABAgQIECCwKAGBnkVxmZgAAQIECBAgQIAAAQIECBAgUF8BgZ761o01I0CAAAECBAgQIECAAAECBAgsSkCgZ1FcJiZAgAABAgQIECBAgAABAgQI1FdgdX1XzZoRINBlgVOnTqXjx4+n6enpLjMo+yIEjh49mkZGRtLBgwcXMZdJuyoQ3y3r169PGzZs6CqBchMgQIAAAQItFegVObW0bIpFgEADBQ4fPpyeeeaZFL83btyY1q1blyLoIxE4n8Dk5GQ5SZy8SwTOJ3D69Ol08uTJFIdBF110UbrkkkvON4vPCRAgQIAAAQKNEBDoaUQ1WUkC3RCIAM/TTz+dLrvssnThhRd2o9BKSYDAigocO3Ysfec730kR+Ln66qvT6tU6O69ohcicAAECBAgQWLaAQM+yCS2AAIF+CDz77LNp37596eUvf3nZi6cfy7QMAgQILFTgySefTEeOHEmveMUrFjqL6QgQIECAAAECtRQwGHMtq8VKEeiWwIkTJ9ITTzyRrrrqKkGeblW90hKojUD0JFy7dm166qmnarNOVoQAAQIECBAgsBQBgZ6lqJmHAIG+Cjz33HPlGBkxJo9EgACBlRJ42cteVvYsXKn85UuAAAECBAgQ6IeAQE8/FC2DAIFlCRw6dCht3bp1WcswMwECBJYrEAN5x08MBi8RIECAAAECBJoqINDT1Jqz3gRaJDA1NVWeXLWoSIpCgEBDBdavW5/idlKJAAECBAgQINBUAYGeptac9SbQIoF4vHGv12tRiRSFAIHGCuSvovhOkggQIECAAAECTRUQ6GlqzVlvAgQIECBAgAABAgQIECBAgMAZAgI9Z4D4kwABAgQIECBAgAABAgQIECDQVAGBnqbWnPUmQIAAAQIECBAgQIAAAQIECJwhsPqMv/1JgMALAjFEw/R0Hquh5iIxtM2qhods+zY+TxEVln9qX2s136isHoEmCvTyF2FvVRPXvO/rfPp0/b8FY1S2kaiyrg3PVrZTp+pfQf3eKkfyvtnB/fN0HJbU/ECys/tiv7dxyyNQM4FeHnCw5l8/NROzOq0ViAPjw0eLdOR4SpNTRRnkiYPQuqfYgSMgtSYfQ21Y30ubN6a0ZVM3jpyLqYmUThxMxcmjKZ3KFRcH0B08kKz7Nmr9CAxHIH8bFvmLfNW61Fu9KaW1o6m3bqz8ezj5r0wu0QYcPpLbrmMpHc9t16lMMJKbgCYEUOIkeHVuu9av7aVNL7RdTb9w8ZKt4PRUKo4/kw8snkvFiUO5wc4VFO1UN5rpf+KIfTONpN6azbnCt6XehovzgUveT1uWyuPI2Bcni3Qy9sUIZjagjHEcGeu6fl0+jtwwcxy5Km+mEgECzRUQ6Glu3VnzPgmczBfWnj9QpIM5yLNpfW7kVvfSujXN6yUTBxRTJ/Ox5Mmi/D0+2ksXbu014gBjUVV5ajIVx55OxeTz+WQuV9iajTO/V6+bOXhe1MJMTIBA6wROn0hF/p5IJ4/nE+sj+fshn7VsvDj11l/QqqLGZbrnctt14HCRNuQ2a/2ambYrAidNSqfyCeaJF9quo1MpjW2eabuaVo6XmJ86lopD/5jbq30p5YBjb01ur2JbHOlwZ/oI9kQbfjLvnzno1VuzJfVGvyv7jL+Er0lvRLA19sWJQ0V5/Fjti3EBrkkpAq/lceSpIh3NVTSWLxpuy8eRazq8yTap/qwrgTMFBHrOFPF3pwT2HyzSs7lxHtvYS1vyMVgTroAupILiiu7hfDVpMh88X7wtevk04XrSeUqWr4IWR/bOBHjyCVtv/Wg+YM5nNxIBAgTOIVBMHc5nL7nnX46M9DZfnnv5NPukMooavQaeeT4HeNbmK++5J2fjgyIv1N90PmOOtutQ7hGx/YJe2povWDQxFYceK4M8vQ0X5ghc3t7acnDR78qYOpR7O+3PvXsuSr2t1/R76UNZ3pFjM/vi+nw40qZ9MQLJh3Ow52Au30U52HPBWDP3xaFsBDIhUFMBgZ6aVozVGrzAd54t0okTRdqar1i05SD5TLXJEyntzycEcbC8bby5jXT03ikO7cnBnXxVdEO+Kh9jcUgECBBYhEBx4nDuXZF7AsYtXaNXLWLOek0aFycO5Vu1ou2Kk8s2puiheiC3XXEbySUXNqvtKp7bne8gPJ56m3KQx8WIBWyeRSqOPlfe0jZy4fWNutXy+Yncoy734rkg9sUcdG1jiguHsS+uzbdXvuyiZu2LbawPZSKwGAGBnsVombY1Ak8+kw8s8uWKaJzbnqIr7nO5a//mXNa4KtO0VBz5dr7i91y+Ep9vvci3aUkECBBYjkBxdF++tWsqjYy/PJ9U5q6cDUr79hfp2PEiXbilV47D06BVX9Kq7s8BrZFVvXTp9ma0XcWzf5OKXu45tjEHeaTFCUweyLdaHk0jF/0Peb+sf9QkAq5HcgAk9sXWjSs1T83FRcN4cMZlFzdjX5ynCN4i0DkBl8U7V+UK/MxzOciT+4d3IcgTtR0HIBflHj3R1X8iB3yalKL7e9zHPzJ+pSBPkyrOuhKosUBv0/bcq2dLmt7/d3m8kHyPUEPSgXyr8dG4jaIjQZ6olgvyeD2nTxcpAlx1T8X+/5qf9zgtyLPUilq/Ne+Xm1Px/CNLXcLQ5otjqTimimOrLgR5AjaOmePYOY6hJQIEmiEg0NOMerKWfRKIhvlovv8/Dh67lOIJLNFIx5gOMehlE1JxeE/5JK3e6GUGWW5ChVlHAg0S6G0Yz7eBbkvTB/57SvmpSHVPU/k23H25B0G0XV0b7iXarmi7YyyUuqbi2FO5N8rBfLvWRXVdxWasVx7PqMgbeDHx97Vd3ziGimOp2C7j2KpLKb5/4hg69keJAIH6Cwj01L+OrGEfBeKq4HgbBiZegsna/NSEKHt0N657Ko49k4o8eGpv9NK6r6r1I0CgoQIzY35tTdMH/7/al+DZ3HbFmDxNe4pPP2AjsFW2XbXt1ZN7CU/8Q+7Js60fxe38MsKxOPrt/NS8I7W0iGOo2B7jmKqLKcrehB52XawbZSZwpoBAz5ki/m6tQDz2Mhrmtg5euZCK25Kf7DoZT+Oq8wXsU/mRyLk3z8iWS3KROna5bCGVaBoCBPom0IvbRfLjrssehH1ban8XdCyeRH0yj7PWrOGE+ooQTxeLW2QO1vD243LbifHj4tHp0vIFeqvK3nbF4ceWv6w+LyGOneIYKo6lupriGDqOpeOYWiJAoN4CAj31rh9r10eBuKd6U36CR9fTpvwo3jqP1VMc3puvjF6cj+rXdb2qlJ8AgSEIxJg9xfHna9uDIIIbm/P3dtdTtN91bLvigQG9dVu6Xj39Lf+60fyEvGfyk7jqda95eRxpXyyPpeu4L/Z3I7Q0As0X6GjHw+ZXnBIsTiDuqT6dHxHZ5d48ldjGfGV0X3klpn4nDsVUfurG9Ik0siF68/Q5xQHjqcm8/Pw7P3FNmkcgNone6tSLINvqmnUfiJ5eMZbKdN6RJQK9kbyd5kvL0Ysi9wBYVopl5acklSfsW1+5rEUNYubDeWyaS8fr9309iLKea5nRq2f/0RyPO5XSmrocvZ48nFc5tyd685yr6hb/Wd4n09oc7Iknbm562eLnH9AcMU7U9jwAc9dTHEsfyHfWxbH12vxaIkCgngJ1aSrrqWOtWiNwLHe1XVf/p3UOxXt1PieKAQSncgO9rm4N9NHvpLiVom8pggPHns3j/RzIAYJ8dhABjHybhnQOgWI6B1TyyK/F6XyVeiylDRfm3+PnmGFwHxWT+1PKB/rF1KFcd3ljHck/cQIgEcgn10Xs0/kx6RGULG/B2pAHwl3iY5ljvJ7p/Hjn3ol84p6fyFWXFLeKxLg8Izb7skriBPP4VJEDPfU42S7blrhtS+q7QG9Nvtgw9VxKNQn0xDFTHDvFMZSUjx/zMXUcW69dU499UZ0QIPBSAWc8LzXxTgsF4okla1ZpjKqqjauhJ07k4FedGuiTR8sAw0g/usBHz53cnb4MEOQTuN6m3ENotVvBqvpf0O84iT5xJI9d8kT+ybcmbL6sv0G4c6xEXMUtjjxZBuXiMdjlIKfL7bVxjvx81HCBCOjGtvrs7jy2x0Wpt+XycttZbKkisFkc31c+en2x8w5q+qk8Nk9XB32dzzTa8akc/Eqb5vt0Bd7LgcGyZ9kKZN36LPOFmeL4/tqM1BfHTLXpSVaDyi/3xXxsLREgUF8BgZ761o0166PAqXzOut7WPisag1qerNkdMNF7o5fvy19uKo7mJ3blwZx7G/MJ39arl7u47s4fPZ/yo257+Wcm4LM3X13NPR7GBmiaexEVE98qb9GK+kuulHd3+1tMyfNtM724dSY/Lj1ODItnH83b6c687V6wmKWU3z/TB76V513UbAOdONqu+L6WZgRq13adziNlr+3wyLyD3DCjB2fcrluTFMdM9sV/qozV+XtpMn8/SQQI1FfA4UN968aa9VFgOt9CH49olWYEevkaWb5Dp1apODGRr6Qv7zJtcWjPzBX5sR05SNHHW8BqJbUCK7N2cz753ZG3mdNp+vlvztwG1+/VyL2wpp/7ZiryPSq90dwjQ5Cn38LtX94LY+30Nl+Syu+CfCvootJIftpPvg2sOJFvFaxJmi6/pzVeVXXErTO1artycNrtpFXt9Pl33KZbo8qOVYljJ2lGII6p49haIkCgvgICPfWtG2tGYIACNWud42D5hbE2llro4tDeVJw8MhMk8MSupTKec77eptxLKvecmN7/3/p7AJ7HBJo+8N9zD4x8m13ulSERWJZADhJGsLA4ti8VR59e3KIiwBjj9NQlOa+sS01YDwJZoGbHTuqEAAEC5xAQ6DkHjo8IEBiSQB5jYzlj6JQndFO5R9DmS/MKOzMaaK1tyLfDRK+HiX/sWzaxrPK2vRj8WSLQD4F820d8H8RYT8XUwYUvcXUeYfRUfrSTRIAAAQIECBBosIBAT4Mrz6oTaItAPDa7t8Sn5cQ9/HGbRm/Txe7PG9IGUT6KOtxzj4nlpvJEPPqAu9VuuZTmP1MgP6ktvheKQ4+f+clZ/+7lAFF8H0kECBAgQIAAgSYLCPQ0ufasO4G2CMQTnpb42OzyiVBxu4+nag11ayiDPflpXMvqyp5v2YpAT/lUraGuvcw6I5DHlyp7oMVT3BaSYhDyPBaVRIAAAQIECBBosoBAT5Nrz7oTaItAEfe9L+GWq+hVkm/ZShsMvDz0TSHfvpXWbFr8GChzVrQ4lsdPiScjxdNVJAIDEujl3mILH6snfw/VaADYAZFYLAECBAgQINByAYGellew4hFos0Bx7NmUykeyLyFI1GaYIZUtxtUpjj+35NyKY8/NjM2z5CWYkcACBOK20DzIcnH8+QVMbBICBAgQIECAQPMFBHqaX4dKQKCzAtGbpxe3ZkgrI7Bmw8yj1pcypkk82SiPoZKWOjbTypRYrg0V6OXeZ2lqf0PX3moTIECAAAECBBYnINCzOC9TEyBQF4G4vaJ8WlcONkgrJ5Aft16cOLLo/IuTeZ48r0RgKAI5KLmU7XQo6yYTAgQIECBAgECfBQR6+gxqcQQIDEng1GTuDbJuSJnJ5mwC5dPSIuC22HTyeH7SmrF5Fstm+iUKxDhQMciy8XeWCGg2AgQIECBAoEkCAj1Nqi3rSoDArEAxfTIP4pufkCOtrMDIqnwCfWLx66D+Fm9mjuUJlE/Uyt8bEgECBAgQIECg5QICPS2vYMUj0F6BeFKXtPIC8ZSipdRFvvVuKU9aW/kCW4OmCvSWuq02tcDWmwABAgQIEOiqgEBPV2teuQkQIECAAAECBAgQIECAAIHWCQj0tK5KFYgAAQIECBAgQIAAAQIECBDoqoBAT1drXrkJECBAgAABAgQIECBAgACB1gkI9LSuShWIAAECBAgQIECAAAECBAgQ6KqAQE9Xa165CRAgQIAAAQIECBAgQIAAgdYJCPS0rkoViAABAgQIECBAgAABAgQIEOiqgEBPV2teuQkQIECAAAECBAgQIECAAIHWCQj0tK5KFYgAAQIECBAgQIAAAQIECBDoqoBAT1drXrkJECBAgAABAgQIECBAgACB1gkI9LSuShWIAAECBAgQIECAAAECBAgQ6KqAQE9Xa165CRAgQIAAAQIECBAgQIAAgdYJCPS0rkoViAABAgQIECBAgAABAgQIEOiqgEBPV2teuQkQIECAAAECBAgQIECAAIHWCQj0tK5KFYgAAQIECBAgQIAAAQIECBDoqoBAT1drXrkJECBAgAABAgQIECBAgACB1gkI9LSuShWIAAECBAgQIECAAAECBAgQ6KqAQE9Xa165CRAgQIAAAQIECBAgQIAAgdYJCPS0rkoViAABAgQIECBAgAABAgQIEOiqgEBPV2teuQkQIECAAAECBAgQIECAAIHWCQj0tK5KFYgAAQIECBAgQIAAAQIECBDoqoBAT1drXrkJECBAgAABAgQIECBAgACB1gkI9LSuShWIAAECBAgQIECAAAECBAgQ6KqAQE9Xa165CRAgQIAAAQIECBAgQIAAgdYJCPS0rkoViAABAgQIECBAgAABAgQIEOiqgEBPV2teuQkQIECAAAECBAgQIECAAIHWCQj0tK5KFYgAAQIECBAgQIAAAQIECBDoqoBAT1drXrkJECBAgAABAgQIECBAgACB1gkI9LSuShWIAAECBAgQIECAAAECBAgQ6KqAQE9Xa165CRAgQIAAAQIECBAgQIAAgdYJCPS0rkoViAABAgQIECBAgAABAgQIEOiqgEBPV2teuQkQIECAAAECBAgQIECAAIHWCQj0tK5KFYgAAQIECBAgQIAAAQIECBDoqoBAT1drXrkJECBAgAABAgQIECBAgACB1gkI9LSuShWIAAECBAgQIECAAAECBAgQ6KqAQE9Xa165CRAgQIAAAQIECBAgQIAAgdYJCPS0rkoViAABAgQIECBAgAABAgQIEOiqgEBPV2teuQkQIECAAAECBAgQIECAAIHWCQj0tK5KFYgAAQIECBAgQIAAAQIECBDoqoBAT1drXrkJECBAgAABAgQIECBAgACB1gkI9LSuShWIAAECBAgQIECAAAECBAgQ6KqAQE9Xa165CRAgQIAAAQIECBAgQIAAgdYJCPS0rkoViAABAgQIECBAgAABAgQIEOiqgEBPV2teuQkQIECAAAECBAgQIECAAIHWCQj0tK5KFYgAAQIECBAgQIAAAQIECBDoqoBAT1drXrkJECBAgAABAgQIECBAgACB1gkI9LSuShWIAAECBAgQIECAAAECBAgQ6KqAQE9Xa165CRAgQIAAAQIECBAgQIAAgdYJCPS0rkoViAABAgQIECBAgAABAgQIEOiqgEBPV2teuQkQIECAAAECBAgQIECAAIHWCQj0tK5KFYgAAQIECBAgQIAAAQIECBDoqoBAT1drXrkJECBAgAABAgQIECBAgACB1gkI9LSuShWIAAECBAgQIECAAAECBAgQ6KqAQE9Xa165CRAgQIAAAQIECBAgQIAAgdYJCPS0rkoViAABAgQIECBAgAABAgQIEOiqgEBPV2teuQkQIECAAAECBAgQIECAAIHWCQj0tK5KFYgAAQIECBAgQIAAAQIECBDoqoBAT1drXrkJECBAgAABAgQIECBAgACB1gkI9LSuShWIAAECBAgQIECAAAECBAgQ6KqAQE9Xa165CRAgQIAAAQIECBAgQIAAgdYJCPS0rkoViAABAgQIECBAgAABAgQIEOiqgEBPV2teuQkQIECAAAECBAgQIECAAIHWCQj0tK5KFYgAAQIECBAgQIAAAQIECBDoqoBAT1drXrkJECBAgAABAgQIECBAgACB1gkI9LSuShWIAAECBAgQIECAAAECBAgQ6KqAQE9Xa165CRAgQIAAAQIECBAgQIAAgdYJCPS0rkoViAABAgQIECBAgAABAgQIEOiqgEBPV2teuQkQIECAAAECBAgQIECAAIHWCQj0tK5KFYgAAQIECBAgQIAAAQIECBDoqoBAT1drXrkJECBAgAABAgQIECBAgACB1gkI9LSuShWIAAECBAgQIECAAAECBAgQ6KqAQE9Xa165CRAgQIAAAQIECBAgQIAAgdYJCPS0rkoViAABAgQIECBAgAABAgQIEOiqgEBPV2teuQkQIECAAAECBAgQIECAAIHWCQj0tK5KFYgAAQIECBAgQIAAAQIECBDoqoBAT1drXrkJECBAgAABAgQIECBAgACB1gkI9LSuShWIAAECBAgQIECAAAECBAgQ6KqAQE9Xa165CRAgQIAAAQIECBAgQIAAgdYJCPS0rkoViAABAgQIECBAgAABAgQIEOiqgEBPV2teuQkQIECAAAECBAgQIECAAIHWCQj0tK5KFYgAAQIECBAgQIAAAQIECBDoqoBAT1drXrkJECBAgAABAgQIECBAgACB1gkI9LSuShWIAAECBAgQIECAAAECBAgQ6KqAQE9Xa165CRAgQIAAAQIECBAgQIAAgdYJCPS0rkoViAABAgQIECBAgAABAgQIEOiqgEBPV2teuQkQIECAAAECBAgQIECAAIHWCQj0tK5KFYgAAQIECBAgQIAAAQIECBDoqoBAT1drXrkJECBAgAABAgQIECBAgACB1gkI9LSuShWIAAECBAgQIECAAAECBAgQ6KqAQE9Xa165CRAgQIAAAQIECBAgQIAAgdYJCPS0rkoViAABAgQIECBAgAABAgQIEOiqgEBPV2teuQkQIECAAAECBAgQIECAAIHWCQj0tK5KFYgAAQIECBAgQIAAAQIECBDoqoBAT1drXrkJECBAgAABAgQIECBAgACB1gkI9LSuShWIAAECBAgQIECAAAECBAgQ6KqAQE9Xa165CRAgQIAAAQIECBAgQIAAgdYJCPS0rkoViAABAgQIECBAgAABAgQIEOiqgEBPV2teuQkQIECAAAECBAgQIECAAIHWCQj0tK5KFahpAu/+lTvTo48+cs7VjmkkAgQIECDQb4GDByfSJ3/nE/Mu9mztU7RZ2qV5ybxJYOgCn/nsPSl+zpXsr+fS8RmBdgoI9LSzXpVqCAKbRkdeFKDZs/fxFO89/PCDi8r90W88kuJA+1wpppEIECBAgMBSBF7/Y697UdsU7VS8F2nPnsfTV77yYPn6zP/O1j5Fm6VdOlPL3wQWJxDHjL/12x9/0Uzfe+1V6YMfvvtF753vjz1796T4OVeyv55Lx2cE2ikg0NPOelWqIQiMjo7lBvqfroJ+4Yv3pSuv2PGSnCMANF862/sx7bk+m29Z3iNAgAABAksRuO6669Mf/cHnXzRrtEFnuwBxth6o52q3zvXZizL2B4GOCXzxi/fPljj2rbHx8dm/qxdn239iHz3bfnq2eapl+k2AQPsFVre/iEpIYDACu/LB8dwrJNFYv/Wtt89mFg32m/7lT6QdO3aWV0zjQDoOqKNRftNP/2RKRVFOu3fOVZjoehvBo+tedX3amw+0H/jTL88uzwsCBAgQINBvgejdEz0Ior2p2qeJiQNpfGw8t3G7Z7OL9umDH7q7bNMmcjsWn0eq5hnLFz+i3Xvfe+9Kb33L7eUyo33bs+exsg184823po/++sfKefxHgMCMwJVX7iz3mzg+/Mxn702v+eGbZmli33r9G34kxb4VPe+qfSsm+Ll/9bPlMWjsh7E/xv4VKfbBn/v5ny2PI+MYNY49d+Q8JAIEuicg0NO9OlfiPgq89S23pejJEw101Vi/5odfW+YQQZ4quBMH0vH3333zsTKQc2Oe5n3vuauc7oYf+v7ydzTocRD9tf/09TSWG+64nzoOrOOAWSJAgAABAssRePd73lW2LbGMaG/i5PHM9Pufvad8/4Ev/WX5UXV7V/zx7l99V/rqX/1NedJYBYfi/bg4cfMbfjz90i/cEX+maNOqdqvIFzSqANKlV1wg0FMK+Y/APwm8LR9HRoDno/k4MgIzN9540+yHv5yPA9/y0z9T7luxz74y39YVn0cwJy4Gfu2vvl5OO3f8nQjyVMGdOD795Cc/Yb+bFfWCQLcEBHq6Vd9K22eBuIISwZnoIvvGm29Jn3zhVq5okOMKSwSAIkXDHH9HigPkKsgTf1dXRaPhPnjo4Exvn/x+eSA+TxfemEciQIAAAQKLEfjoh39j9iRybqBm7jKiZ+rc9qn6LKa/7lW75u0ZEJ9F2/XFL/1JOfncXqrRozVSXLyQCBB4qUAcH0aPugjKzA3yxJTl8WLuIRcp9qHoSb439+yJnnZzp517u9c38mfv+Pm3l/OcLaBbfug/AgRaLyDQ0/oqVsBBCkR32L05yBON6S/9wR2zgZ5okA/lA9+5ae7fVdBn7ufxOg6kqyupZ37mbwIECBAgMEiB6Jk6X/sUbVoEc+ZL8VkEh+aeeM43nfcIEJhfIG7X/9BHPpD+8HP/oezdU00VAZyDE/ki4ZXVOwv77ThyYU6mItB2AYMxt72GlW/gAnH71nz3P8ftWR/68AfK/ONqzVt++rbydUz/2c/9Xhkciqs11RgIcZAc92DHVZ1IcwfSm+/Au5zIf7UReHzPt/MJ0qElr88jj/7tvPPHMuOzKi0nj2oZfhMgQGA+gdfcmNutfMIZFy/mtk/X5Z4EEwcOlLcTx2efyW1YlaJNi9vC4v1I0TtVar5AtGnxIw1e4Bd/8Z3lLZNnHktGr/G5+2McI8axYgwR8JnP3FMeJ8ax4he/dP/sSsaxZnXsGZ/NPZas9tHZib0gQKDVAgI9ra5ehRukQFyBiRRjEVQDTMZ7cXUzUtwj/XgehDLGOIjG+V+/MAhlTP+q3HMnxuz5QgzgnBvlap4H/uzL5XsxT9wSVjXK0fjHeD1tSQ8//HDu8bT0oMggHCKY8iOvf/OLfhaTz72f+eMXBWQWM29Me+e77553/liv+CzS3R/8ePqJN/1v5Wv/NVvgnry9xI9EYK7A3//936fdu3fPfasvr+e2TbHAaHOqNmzu62ifbn7DLWX79Pt53JD3vufXZtunaNOizYq2K8bkqeaPk9H3/uqvle+X7V0+uYy048od5U/5R/4vLn40PX3ta19L3/52fYIfM+3DzAWlyvbOd39g3rak+nyhv6NNi5+upscee2wg++Jcz2qfiGO86uEbc/eb6ClXHS/G/hjHiJEi2BPHne/IAzLHsWKM4xPzRYpjzSL/i30xxu4pewS9MM/cJ8WWE/uPAIFWC/TyQHlFq0uocASywBNPF2nT2pTWr8ERAgePFWntul7aNt5bEZAI8vz1X/91+oEf+IE0OjqaiqNPp3TqSOptumjB61NMTaTiyFOpt+XSBc9zrgkffPhr6d7f//fptrf9i9nJbrrxhtnX53sRQZjXvuaGtJh55i7zda9/U7rrfXe+ZP5Yr7s/+LH05Qf+aO7k9Xk9lQN2p0+m3vh3LWqdiv1/l9K6PBjsmo2Lmq8tE8f2Eumu993RliLVvhzFwT1pZOsrUlq9/uzrOn06TU88nka2v/rs0wzwk5MnT6YIJsT34q5du9KzB4rYvdLohgFm2qBFHz+R0uSplC67eOXarq9+9avp2muvTZdffnkq9v2XfGAxmreplamg+dqHs7Uli63mFf+OyqcnxcS30shlP7LYVe/b9FXQNfbF5yeKdGKqSGMbV2bb61uh+rSgyfy9dDTvj1dcwqNPpBZDoO8CevT0ndQCCRA4n0CcxESQJ4I9derZs3PHFWWgJYI1VcAmrph+/Lc+nd71Kx8oe/tEL4w4uI7ePz/55p970e1Wj+z+2/K9+Oy+L/zFLEM1fbwfr6v0iU/+7uxyDh48XL1dXo2NZcf0vzfnimqsS9ULpFqPt7/j/5xdr2oB8Vn0/In54yf+jlu+qmnjt1vAKq16/Y5traq3ahv62Z/7P150C0Vcsa9uFazqNLbPKsWJXswby4npqmXGNhXbkFRfgTVr1qQbbrih/F6sTjLru7bdW7Nou37wB38wffOb36xVz56z1cTc7/34jqi+96vvhPiOqL5nYhnV90a8v/sbvisiwBPJvlgy+I8AgYYJGIy5YRVmdQn0S+Dbe/8hP5rzH/q1uCUvJ65e/08/dN2S5+/njA/lIMwHPjTT0+I1LwR74sA4etR8/t/9m/Rr770jXXDpdemdv/j29JcP/GEZTLnn9/843fFLby9XY/ej30yf/tT/VZ5cv+5H35Ru+m9/lSYmDqU7f/nu9OU/n+mRE+/H6we/8rV0z+//u/J1TBMn51WKE/LI6/a3/lR5u9Zje54oP4p12fPCmAnx+xO/9W/T5//o35QH73FgHtPHiXy8//Wv/Vn5+l05KBDvx4H92Nhoud4xzXh+LdVPYOeOy8s6igDN99/wz9Ot3/lGftLKtekTn/x0+thHf62s6/u+8Ofl6wgAvfY1P5i3uZntJAJ6UdcPPfyf0/V5nthGYzn3fubfl9tDvB4fV+8LqfUvfelLC5lsoNNEEHzt+gvS1q2XDzSfpi38yOHn05f++j+v+GrHyf+Wa7em0XN0EBvGSu7Z++RsuxX5xd9Viran+o6INqBqr6rvmWgLok2K75n4fojvlGif4vN4XYdUh30xHFat2ZK2bdtZBxLrQIAAgQUJCPQsiMlEBNoncPmV351PIL9nxQoWJzER5LnmmmtWbB3OzHjHlZelCPBE2nnlP51cXb/rmtkePrte9b3lSXZMEyfTB3PwpUpx21cEUK6/7poU88RB9EM5oPP9u65Nux/NtyrldNXOK8r34+Q7btWK6eMnDqwjxTxjo1vKE/b4O24He/Dhr8bLl6Rb3/ijs/NVV2rjd3UyH8usgkSxPr/525/O63Vtuu0t//NLluWNegjc+sZ/Vl5VfzRfTe/1ZrrE3/62nyqDPhHoiSvu7/zF/7Vc2Xh9+9v+lzKwMz4+lu7PAaAI9ESqbgmLbSG2iQhg/u85QCnAV/Kc9783vOEN551mkBNEECG+I7decHHKw21IcwQ2b9mWVrJ+5t5eN7pxas6arczLaC+qdivW4PN/8uezK3LvZ//f2e+IrVvHyosLcWFi7vfMwUMzvUljPJ7bcxsW7VekaN/qkFayrqP81b540fbLU76zUyJAgEBjBNy61ZiqsqIE2iMwN8gT4xzUJc29dasKvJy5blUQ5cz3z/V3BFse/MpXy59dr7qmDCLNDcjMnfds78+d5lyv45azuDIb3fTjtp4IJkWK9//yz/4wPbL7m+nqa364nOZcy/HZ8AWi7qNnV/z+mbf8VA7Efm+5EhGcifqL2/4imBMnaZHiBK3ariYmDqZbcuCvSlVAJ35H764rc+AyrtzPvU2jmtbveglUJ5ZxC9eq1QaWq1PtzA3yVLf1rPT6RZsU3w/Vz5ltVPUd8fjjT6Tb3vovyu+Xud8zr73xf5wtQvW9MftGx1/M3RdX2xc7vjUoPoHmCejR07w6s8YEGi8QY/NET546BXn6gRq3YEWKE/XowVP2Cso9cuKWsKqHRZXPLTf/aD5p/4vy4Dymr8boiaupEaiJ9+KgO14vJsX0sYwIFMT8VcAq3o/X5e0/OSjw+N6ZvxezbNMOViB6c8U2E71yov7n3oIRvcVisPCqHmNNogfa+QYAj+VEimVG/cdtfVWgqPzAf7USiCf9RCA8gjwxXo/uPLWqnrJ3RzVQdr3WbP61iSDOmd8RETCe73smpovblO9KMwPEP54vUMTFj64m+2JXa165CbRHQKCnPXWpJCsg8Oijj6QPfeQD6Q8/9x9WIPfmZhmDWW7YsDJPKTmX2r2f/eMyKFNN8xv5VpnFpE988t+m38xjqUQQJeaNE+v4uT8HXqIXTRxcx2NP4wlacTtO9LCIsXXivbGxLWVWEZyJXjiv/sEfK6ePk/nFpLiaG8GAGJsnUuQft+xEUOn+L/5FGfyJ/Kru+YtZtmn7KzB3e9uVt5EIBt6Zgz2xTUS9xy0ZVYqr9TFmRnXbVrwf4zPFe1vzbVtRp/M9tS22hTvffXc5zWP5iv7H/vVd1SL9rqFABL+vuuqqGq6ZVQqBeNpWHduus9XOxz56VzmW3FU5YBPfEfH9cVMO6Mz3PRPfMffmNiranqo96nKgJ/bF+JkJuJ5NuD/vx6PQP/V//27+3t/ZnwVaCgECBLKAx6vbDDohMKjHqx88OJG+8vCD6Y0339p3x2j4H/jTL/d9ubHAlX68+pmFqsPj1c9cp6b+Hbfm7M7BgqoHUQzA+VAe4yeCAgNJHq8+ENb5FhqDM0c9RvBOWrxAEx6vfmaphvV49YdzO/aV//hQet97zh0IvOb7rk5/+1+/deZqDu3vlX68+pkFXenHq5+5Pq36uwaPV5/rOcjHq3/ms/ekt77l9rnZ9eX1Bz98d3rND7823XjjTX1Z3tyFeLz6XA2vCdRTwBg99awXa9UQgYkc6IlgT6Q9ex9PcbAcPx/68AdS9PapUjS28Xm8/9nP3Vu9PTt99UZMFynm3bt3Tzl9LE8isFCB6MGxJ/coilt24nUM6hvjMkjNFYhbuuJJbDflJ2wJ8jS3Huu05tEORXsU7Uu0YQ//x6/kn4fK92I9o7365O98ovw7XkeKaat2rGqXqr/ntmuxvDPnLRfgPwIE5hXYk4/3qhRBn2q/+sIX76veTtX7sW/Fz9xjz/isStV0sYxvfGN3+sznfq+ct/rcbwIEuiMg0NOdulbSAQjs3fN4bkDvLZccr9/9nneVV0WvvPLK9KO5R07VEH8oB3A++KG7040//Jr0J1+4L737V2YGyI0rqPFTpZgu0qPfeKRs6KOrtURgMQLxRJV4Assnck+eeIrKz+SxWYzJshjB+k0bAbsfv/mfzT7trX5raI2aJPBbv/3x/DTAB8v26AtfvD/tyW3XVx7OvUejB8ULbU60V2OjY3kQ7yvTP/+xHymLFyeOkapp4oLEO/7Vz6ZXveq6dGDiwGy79nP5vSIvK96fe6Jazuw/AgReIlAd+8UHse/FT+w/caxYXTSMY83Y3668YkeamJhIb/qXP1EuZ+5xaLwR08V78bN799fLfbGc0H8ECHROwBg9natyBR6kQBwYV13fo7GNBrrqMvv/5PuvI1133fXplddelT766x8766pEF953/PzbZ5d11gl9QGAegeoR2/N85K0GCgjUNbDSar7KvV6vbIuq9qn6XbVfVXsVbdjY+HjZlp3ZLkVA5xd/4Z2zty5/7wvtWgSEXtO7afb9mlNYPQK1Etj7xJ40u//lHjlf+NL95b4aKxn7Z+yrMVzADbm3TxUEmq8AMd2OHTvT295y2+xx6HzTeY8AgfYK6NHT3rpVspoKjI2N56eqHKzp2lktAgQIEGizwC/9wh25p86Ostdp3L41X4r3o8dAnGRG75yqd+rcaffmgE7cbhzjycVPnFRG+qM/+HzuSfBIuuGHvl+PnlLEfwT6LzCejyXn2y/7n5MlEiDQVAE9eppac9a7sQJxtTO63p6ZzmywR3PvIIkAAQIECPRbIHoGxE8EY+KW4rkpegn8yRc/n772V18v367G45k7Tby+8sqd6a03vvYlg8jGk4OiR0K0ad+bB28exMMKzlwXfxPomkDccnllDq7GLVpzU4wdKREgQCAEBHpsBwSGJBDd3Hftur68f/p9772rzDWehhDv9/K/GCNhbgDoNTfelH7lV9+Vbn7Dj+t2O6Q6kg0BAgTaLhDjfuzYuXP2Uc5xsvjG3DvgHb/w9jzY9870qu/bVT4M4Iu5N0+M4bM7B36qFG1U9PaJ4NAv5du2otfPwdxDNXoXxDg9b8u3Hb/pp3+yvF0kTjive9Wuala/CRBYpsAv/+qd6W1vvT0PjP5QGUCNoGrse7GPxn75+J7Hyr+rbG6++ZY8cPNvlvvozW+4pXrbbwIEOiLg1q2OVLRiDkYgxtv56Ec+Vi587ut4I96P96oUwZ0YQO9Tv/3p2SugcQ91XPkcHRstu7tHl/cqxftX5IEwJQIECBAg0C+BaItiPLk4KYw2J04Wy/brw79RBmviFqyv/tXflCeP733Pr6Wv/aevz7ZlD/zZl8v2KtYl5onP4tau+Ikgz1g+6fzU73y6XE7kMbdN69f6Ww6Btgk88KW/nC3S3NdvzePrxE+Vohde7Gtv+emfmR3nMfa5cj/Mw6THvv2pfOwY+2akuE0zLhZO5CCsRIBA9wR6+Quj6F6xlbhrAk88XaRNa1Nav2ZlSr5pdCQdPTS9MpnPk+vBY0Vau66Xto335vl0+G8VR59O6dSR1Nt00YIzL6YmUnHkqdTbcumC5zHhAASmDqV0+mTqjX/XohZe7P+7lNaNpbRm46LmMzGBpQoUB/ekka2vyH2Z1599EdOn0/TE42lk+6vPPs0QP3n2QBG7VxrdMMRMa5zV8RMpTZ5K6bKLa9J27fsv+cBiNG9TKqjvm00EECe+lUYum3nqW9+Xv8gFPj9RpBNTRRrbuDLbXoyDVQ3GvMhVH8jkk/l76WjeH6+4ZGU8BlIoCyXQMgE9elpWoYpTT4Eb8y1aEgECBAgQIECAAIHFClz3quvLHnOLnc/0BAh0V8AYPd2teyUfosADf/rlIeYmKwIECBAgQIAAgbYIfPTXZ4YJaEt5lIMAgcEL6NEzeGM5ECBAgAABAgQIECBAgAABAgSGIiDQMxRmmRAgQIAAAQIECBAgQIAAAQIEBi8g0DN4YzkQIECAAAECBAgQIECAAAECBIYiINAzFGaZECBAgAABAgQIECBAgAABAgQGLyDQM3hjORAgQIAAAQIECBAgQIAAAQIEhiIg0DMUZpkQIECAAAECBAgQIECAAAECBAYvINAzeGM5ECBAgAABAgQIECBAgAABAgSGIiDQMxRmmRAgQIAAAQIECBAgQIAAAQIEBi8g0DN4YzkQIECAAAECBAgQIECAAAECBIYiINAzFGaZECBAgAABAgQIECBAgAABAgQGLyDQM3hjORAgQIAAAQIECBAgQIAAAQIEhiIg0DMUZpkQIECAAAECBAgQIECAAAECBAYvINAzeGM5ECBAgAABAgQIECBAgAABAgSGIiDQMxRmmRAgQIAAAQIECBAgQIAAAQIEBi8g0DN4YzkQIECAAAECBAgQIECAAAECBIYiINAzFGaZECBAgAABAgQIECBAgAABAgQGLyDQM3hjORAgQIAAAQIECBAgQIAAAQIEhiIg0DMUZpkQIECAAAECBAgQIECAAAECBAYvINAzeGM5ECBAgAABAgQIECBAgAABAgSGIiDQMxRmmRAgQIAAAQIECBAgQIAAAQIEBi8g0DN4YzkQIECAAAECBAgQIECAAAECBIYiINAzFGaZECBAgAABAgQIECBAgAABAgQGLyDQM3hjORAgQIAAAQIECBAgQIAAAQIEhiIg0DMUZpkQIECAAAECBAgQIECAAAECBAYvINAzeGM5ECBAgAABAgQIECBAgAABAgSGIiDQMxRmmRAgQIAAAQIECBAgQIAAAQIEBi8g0DN4YzkQIECAAAECBAgQIECAAAECBIYiINAzFGaZECBAgAABAgQIECBAgAABAgQGLyDQM3hjORAgQIAAAQIECBAgQIAAAQIEhiIg0DMUZpkQIECAAAECBAgQIECAAAECBAYvINAzeGM5ECBAgAABAgQIECBAgAABAgSGIiDQMxRmmRAgQIAAAQIECBAgQIAAAQIEBi8g0DN4YzkQIECAAAECBAgQIECAAAECBIYiINAzFGaZECBAgAABAgQIECBAgAABAgQGLyDQM3hjORAgQIAAAQIECBAgQIAAAQIEhiIg0DMUZpkQIECAAAECBAgQIECAAAECBAYvINAzeGM5ECBAgAABAgQIECBAgAABAgSGIiDQMxRmmRAgQIAAAQIECBAgQIAAAQIEBi8g0DN4YzkQIECAAAECBAgQIECAAAECBIYiINAzFGaZECBAgAABAgQIECBAgAABAgQGLyDQM3hjORAgQIAAAQIECBAgQIAAAQIEhiIg0DMUZpkQIECAAAECBAgQIECAAAECBAYvINAzeGM5ECBAgAABAgQIECBAgAABAgSGIiDQMxRmmRAgQIAAAQIECBAgQIAAAQIEBi8g0DN4YzkQIECAAAECBAgQIECAAAECBIYiINAzFGaZECBAgAABAgQIECBAgAABAgQGLyDQM3hjORAgQIAAAQIECBAgQIAAAQIEhiIg0DMUZpkQIECAAAECBAgQIECAAAECBAYvINAzeGM5ECBAgAABAgQIECBAgAABAgSGIiDQMxRmmRAgQIAAAQIECBAgQIAAAQIEBi8g0DN4YzkQIECAAAECBAgQIECAAAECBIYiINAzFGaZECBAgAABAgQIECBAgAABAgQGLyDQM3hjORAgQIAAAQIECBAgQIAAAQIEhiIg0DMUZpkQIECAAAECBAgQIECAAAECBAYvINAzeGM5ECBAgAABAgQIECBAgAABAgSGIiDQMxRmmRAgQIAAAQIECBAgQIAAAQIEBi8g0DN4YzkQIECAAAECBAgQIECAAAECBIYiINAzFGaZECBAgAABAgQIECBAgAABAgQGLyDQM3hjORAgQIAAAQIECBAgQIAAAQIEhiIg0DMUZpkQIECAAAECBAgQIECAAAECBAYvINAzeGM5ECBAgAABAgQIECBAgAABAgSGIiDQMxRmmRAgQIAAAQIECBAgQIAAAQIEBi8g0DN4YzkQIECAAAECBAgQIECAAAECBIYiINAzFGaZECBAgAABAgQIECBAgAABAgQGLyDQM3hjORAgQIAAAQIECBAgQIAAAQIEhiIg0DMUZpkQIECAAAECBAgQIECAAAECBAYvINAzeGM5ECBAgAABAgQIECBAgAABAgSGIiDQMxRmmRAgQIAAAQIECBAgQIAAAQIEBi8g0DN4YzkQIECAAAECBAgQIECAAAECBIYiINAzFGaZECBAgAABAgQIECB0IDpxAAAbf0lEQVRAgAABAgQGLyDQM3hjORAgQIAAAQIECBAgQIAAAQIEhiIg0DMUZpkQIECAAAECBAgQIECAAAECBAYvINAzeGM5ECBAgAABAgQIECBAgAABAgSGIiDQMxRmmRAgQIAAAQIECBAgQIAAAQIEBi8g0DN4YzkQIECAAAECBAgQIECAAAECBIYiINAzFGaZECBAgAABAgQIECBAgAABAgQGLyDQM3hjORAgQIAAAQIECBAgQIAAAQIEhiIg0DMUZpkQIECAAAECBAgQIECAAAECBAYvINAzeGM5ECBAgAABAgQIECBAgAABAgSGIiDQMxRmmRAgQIAAAQIECBAgQIAAAQIEBi8g0DN4YzkQIECAAAECBAgQIECAAAECBIYiINAzFGaZECBAgAABAgQIECBAgAABAgQGLyDQM3hjORAgQIAAAQIECBAgQIAAAQIEhiIg0DMUZpkQIECAAAECBAgQIECAAAECBAYvINAzeGM5ECBAgAABAgQIECBAgAABAgSGIiDQMxRmmRAgQIAAAQIECBAgQIAAAQIEBi8g0DN4YzkQIECAAAECBAgQIECAAAECBIYiINAzFGaZECBAgAABAgQIECBAgAABAgQGLyDQM3hjORAgQIAAAQIECBAgQIAAAQIEhiIg0DMUZpkQIECAAAECBAgQIECAAAECBAYvINAzeGM5ECBAgAABAgQIECBAgAABAgSGIiDQMxRmmRAgQIAAAQIECBAgQIAAAQIEBi8g0DN4YzkQIECAAAECBAgQIECAAAECBIYiINAzFGaZECBAgAABAgQIECBAgAABAgQGLyDQM3hjORAgMBCB3kCWaqFLEVhKXcQ8xVIyMw+BpQkUeXtbyqa6tNzMRYAAAQIECBBYMQGBnhWjlzEBAssR6I2sznGC08tZhHn7ITB9KqVVuS4Wm0bWpDSt/hbLZvplCMT3RW8J2+oysjQrAQIECBAgQGAlBAR6VkJdngQILF9g1bqUTp9Y/nIsYVkCRRno2bD4Zaxen4rpk4ufzxwEliJQBRUjQCwRIECAAAECBFouINDT8gpWPAKtFYgTtvg5PdXaIjaiYKeOp96aTYtf1TWbUzo1ufj5zEFgKQLldpq3OYkAAQIECBAg0AEBgZ4OVLIiEmirQG/deEonjra1ePUvVwTZYtyTNRsXva69dWMpnTzm9rtFy5lhKQLFyfw9sT5/X0gECBAgQIAAgQ4ICPR0oJIVkUBbBXobLkzF1KG2Fq/25Qr73oZtS17Pct5J9bdkQDMuTKCYTmnqYOqtX/q2urCMTEWAAAECBAgQqIeAQE896sFaEOi2wFKfhJNvGerlsV7S5MFu+61E6WNsnskDqbfx4iXn3tt4SSryMjx9a8mEZlyAQGxjvQ3bZ271PO/08WSupX4hnXfhJiBAgAABAgQIDEVAoGcozDIhQOCcAvEknCU+Qau35fJUHH9uyfOfc718eFaB4tjzqbfp0vzErbVnnea8H+Rbvnrrt6ZYlkRgIAIxDtTx/am35bKFLb58MteqhU1rKgIECBAgQIBATQUEempaMVaLQKcEIlgQPUSWkvKgvr2N21NxdN9S5jbPUgSmJnJ9ncwnz5cvZe4XzdMb3ZHHWTqSb605/KL3/UGgHwLF0WdTuY2NrFnQ4orTebuOJ/pJBAgQIECAAIEGCwj0NLjyrDqBtgj0Vm9IxamlPz2rt+WKfLfFKsGeYWwQOSBTHNufRsZf3p/ceiPlsoqj38mDMxtYuz+olhICxZGnUm/daBkIXrDI6RMprV784OILXr4JCRAgQIAAAQJDEBDoGQKyLAgQOI9AXG3PJ/wpTrKWmHpbvyf18hOgiqPPLHEJZjuvwOREDvI8m0Yu+J58MpzHRupXWpt7ZW19RSoOP5l79hicuV+snV1O7h0Y21Jv1YaZ3jyLgTh5PKW8PUoECBAgQIAAgSYLCPQ0ufas+4IFYmzNeAq0NCMQFHUbbzQet10s81HpvQteUd52UUzsmbkdSIX3RyDfzlIceTrFI6pHtl2TH6fe/xPhqP+RbdfmwZlzMCluw5s+3Z91t5RuCeRAYXFwT+7JM556Y1ctsuw5UHzySOqtHV3kfIObvPye1nbNAkc7Xqu2Ky5QOLiYrZ/+vshPy0v1GRi9PI7sbwEbvbTa7YuN1rTyBAYjkEdAlQi0X2B1HlvzdBwzSKXAdLYIk1ql/Ojj4nA+QduwdVmr1Rvdma/IH8jLemLmkcr51o20dsuyltnZmfNAtuXj6+PR1JsvzT8LHNB2qWD5KWojF12X625vKia+lVIeqLm3LtedMVOWKtqN+eLx6XmcpyK203wL50juHbaUXjmxrffWjudzy/p8Ocb39FQZSKjPCe9KblTRjq+u05HryDLGl1tJyCbkHeP2LWew/z6XMfbFOHaSZgTKfbE+X5WqhQCBeQTq1FzOs3reItAfgXX5WOzYsbIfS38W2PClnMydJdauqdeJQ1xFL+KE5uSx3GNkeWNkxJOcyqc5Hc9Pczr+bNkbpVxmPmiME8F6XRKu18ZURE+aPNByiqcVZavehm25Z8TVC3w0dX/K0ttyZR5XJT96/dgzM3UX20XcKpZv8euN6IjaH+WGLyVvE0WcCMbtnqeO5YBg3udjrK7ck2epqZjMgZ5BBzMXuXLxPT1xOtouKQROThdpS53arnwRoZg6UKN+Jy3aTvK4fb0c/K9Lin3xpH1xtjrCYuPGeh1Hzq6cFwQIlAICPTaETghsWJcPlg85WI7KzsfJ6WQ+P1pfwwfL9Dblk/scnOktM9BTbdQRpEgRqMiPTC7iyU6n8vgbEcRItoXK6MzfvdV5w8hBlfIAeyV70kRQLk7c808EneK2sXQ6D9hd5I1XIpBvmenFE/fyQO4zvXeWd8JRfj/k74UIGNUpbci741T+yopvrOWVsE6lWvq6hMX29fWRiB5gxdGnll4gc55VIB7Q0Fu//ayfD/uDOGaKY6c4hhqpzyY4bIbZ/E5ki2352FoiQKC+AgI99a0ba9ZHgWigqwDHmo5v9cfyufLmml6F6W3YnqZzL4504nC+haKPt1tFz5Q8BkyKH6l5AhF46ufgz80TsMYDFiiO5QDz5hxUrFmKcUE2beil+N7elNuxLqepfGIZJ9hr89j9tUkRGIyLB9GzrEa3GdXGZzkrEscBW69dzhL6Pm8cO5XHUH18FkHfV3IIC6wCXnW8YDiE4suCQGME9IFvTFVZ0eUKjG3upSMn9OQ4OlWksT7GUJZbL2fOH7ftFEefzZew3Qx/po2/CRDov0AZ5Mk9g+J2zzqm+L6O7+2up5m2q349CHobX5Z7jB7uevX0t/xTcbEnj68XPfZqlOyLM5URx9JxTC0RIFBvAYGeetePteujwNaxXjqa79yJ8Wm6mo7mq8Kr8iXRuEJc19RbO5ZPuPLAzEc8Jr2udWS9CLRFIE7Qy0GcR6+qbZG2vNADM3oSdDXFbSLHc/m3jtav7ept2ZlXLo8HV94W3NUa6m+5i8n9KdVwn4xjp1Wr8rFkh/fFOIaOY+k4ppYIEKi3gEBPvevH2vVRYFXe2i/c2ksHy0GZ+7jghiwqbl2Lsl94Qf0b5+jVk0fdnXnMdkN8rSYBAg0TyAO/F4efSiNjLx/qYONLUboof28fPJ4HoO5ox55ouy7K7XetHq1eVWQey6w3enUePD4HJ6RlCxTH95dPv+utu2DZyxrEAqrjyDim6mIqjyPzvhjH1BIBAvUWsJvWu36sXZ8FLshXIEZyj5Y4YO5a2n+kSONbemljQ+4t741/T75CmgdRPrqva1WlvAQIDFigOHE0TR/6dn6i3HfnQV9qfC/rCw7Rk2DLpl7af7R7bddEDvKszk88Gq9hb55qM+2NflcOQuVD6uMHqrf8XopAvmWrHKNv6zVLmXso88QxVBxLxTFV11IcO8cxdBxLSwQI1F9AoKf+dWQN+yxw6fZe+RSTQ7nraVdSHJCsXt0rezQ1qcy9ra8sHzdTHMpPNYlHKUsECBBYpkAxOVH25OmNf3dtx+WZr4jbc6+eOMk60KFgz6F8Yhm3ilx6Uf1PLHvbds08HXDy4HzV573zCeQnYxZHn04j2TGN1PupGdGrJ46puhTsiWPmeOpdHENLBAg0Q6BX5NSMVbWWBPoncCofOD75zHRavSrfZ1zTJ1D1o7Sn8njGcVKwNl8NfVkDDpTPVubiyLdzt/hnUm/j9nxilgdolAgQILBYgfxkpBh4OQZ678X4HzUb6HWhxXlyX5FOnyrS1tzDp823T0TbdbropcsvjgDXQnVWeLrTk2n62a/nbWttbq8uXOGVaVD2EXzNt2yNXHh9fjpmPQdFn0/zO88W6cTJmX1xdVO20fkKcp73DuRedXHcfNnFI+Vx83km9zEBAjUREOipSUVYjZUReDo30scmizSagz0b167MOgwq1yOTKU3kA+Vt473yZ1D5DG25J/PVvsN78xgV+SRt/Xh+XHr9b7cYmo2MCBA4u0AEeHIvi2LyQOptuiw/Rv3Ss0/bkE+eO1CkA4fyk29y27W5IbfjLpQ2Bp2OW0TidrVLLmxg74F8/bTY/438JK5DqbchBy3Wbl5o0bs33anJHODJ+2VvVepd8H2NDL4+P1Gk+BnPgdfW7YsnUjqUgzwb1+d9scEXC7u3YykxgRkBgR5bQucFjuRGLBrp6dz7ZeO6XtqwJh9r5J4+TUzlk0ny1aWjOcizIZcluheva1kAq3wax7GnU3F6Kg/YmIM9azemXlyZj/ERJAIECIRA/n4o8mDLKY/FU+STyd6G3Btw08tqf0vIYipvMgdEnstt11R+9PqmfCK2Prdda+t9x8tZixe3Zx3Pt4Ucz2WJ29MuzPGROj8d8qwFmfNBcXxfKg7940wPsgj2rN2Ut79cSV1Peey9dDLvl3nfTDkIG73repuvaLTKVA6IRPA1tt9NOfC6Ifeibuq+GD13Yl88Vu6LqbxQuLnFPd8bveFZeQLnERDoOQ+Qj7sjcCxfQTx0JD82MvfwiacprMnBnnjCRxOuJ57OQao4UI513pQb5LHN7QvwvGRLPHU8PxY5P+Vk6lA+ocsVF/f054PockDMl0zsDQIE2i+Qe1LEWF755DGtyrfOrMmB4PVbc++/5twKspQ6moyr7oeLdCS3YXGSFu1A3OpU97Yrxg3IHTTLtivWNwI7o7ntasoDAxZaV8Vkvl3w2FO5R1lur6LA+Sld3bwwkct+OkcQitMz++TGl+Xb2y5ZKGMjpouAz8E8JuLRfAGxOiZrwu2V5b6Y/4t1znHWMnA8mmOTG/M+KREg0FwBgZ7m1p01H6BAHCyfzOcL0w15fuaqVTNXjxozjsEg6i5O7qbzLRpxtVAiQKBzAr2IzEePic6eSEeblTsxRazrdJy61T+tymeVa3KMflVDe9EuWjj3NEt5HJ8yIJmaUUeLLuO8M/TK27PKfbOhY2PNW6xzvNm0fTF60sW+2NQe7eeoCh8R6KyAQE9nq17BCRAgQIAAAQIECBAgQIAAgbYJGNSibTWqPAQIECBAgAABAgQIECBAgEBnBQR6Olv1Ck6AAAECBAgQIECAAAECBAi0TUCgp201qjwECBAgQIAAAQIECBAgQIBAZwUEejpb9QpOgAABAgQIECBAgAABAgQItE1AoKdtNao8BAgQIECAAAECBAgQIECAQGcFBHo6W/UKToAAAQIECBAgQIAAAQIECLRNQKCnbTWqPAQaKLB79+50+vTpBq65VSZAgAABAgQGIfDEE0+kffv2DWLRlkmAAIHWCwj0tL6KFZBA/QWKoqj/SlpDAgQIECBAgAABAgQINEBAoKcBlWQVCRAgQIAAAQIECBAgQIAAAQILERDoWYiSaQgQIECAAAECBAgQIECAAAECDRAQ6GlAJVlFAl0QcPtWF2pZGQkQIECAwMIE4rig1+stbGJTESBAgMCLBAR6XsThDwIEVkJg3bp1aXJyciWylicBAgQIECBQQ4E4Lli7dm0N18wqESBAoP4CAj31ryNrSKD1AqOjo2liYqL15VRAAgQIECBA4PwCJ0+eTEeOHElbtmw5/8SmIECAAIGXCAj0vITEGwQIDFvgoosuSs8880w6fvz4sLOWHwECBAgQIFAzgaeeeipt3749jYw4ValZ1VgdAgQaIuDbsyEVZTUJtFkgumZfccUV6bHHHksnTpxoc1GVjQABAgQIEDiHwNNPP52OHTuWLrvssnNM5SMCBAgQOJdALw90VpxrAp8RIEBgWAJxcLdv377y4G7btm3DylY+BAgQIECAwAoLxJg8cRwQv6+++mrj86xwfcieAIFmCwj0NLv+rD2B1gkcOnQoPfP0M+nosaNp48aN5YHe6dOnW1dOBSJAgAABAgRSivF4pqeny99xK/ell16KhQABAgSWKSDQs0xAsxMgMBiBOPCLMXvi4E8iQKAbAtHJOK7mb9iwoRsFVkoCBMoAz6ZNm8qLOzgIECBAoD8CAj39cbQUAgQIECBAYJkCEej5+te/nl796lcvc0lmJ0CAAAECBAh0V8BgzN2teyUnQIAAAQIECBAgQIAAAQIEWiYg0NOyClUcAgQIECBAgAABAgQIECBAoLsCAj3drXslJ0CAAAECBAgQIECAAAECBFomINDTsgpVHAIECBAgQIAAAQIECBAgQKC7AgI93a17JSdAgAABAgQIECBAgAABAgRaJiDQ07IKVRwCBAgQIECAAAECBAgQIECguwICPd2teyUnQIAAAQIECBAgQIAAAQIEWiYg0NOyClUcAgQIECBAgAABAgQIECBAoLsCAj3drXslJ0CAAAECtRPYvn177dbJChEgQIAAAQIEmiTQK3Jq0gpbVwIECBAgQIAAAQIECBAgQIAAgfkF9OiZ38W7BAgQIECAAAECBAgQIECAAIHGCQj0NK7KrDABAgQIECBAgAABAgQIECBAYH4BgZ75XbxLgAABAgQIECBAgAABAgQIEGicgEBP46rMChMgQIAAAQIECBAgQIAAAQIE5hcQ6JnfxbsECBAgQIBAHwUefPDB9Pjjj5c/8bofqVrmfMu655575nvbewQIECBAgACB1gsI9LS+ihWQAAECBAgMViACLjfddFN6//vfX/7Ml1sVlIlgT7zuR6qWOd+yBHrmU/EeAQIECBAg0AWB1V0opDISIECAAAECgxWoAj2RS9VzJ96LYMzOnTvPmnlM+8gjj6Tdu3enXbt2pfHx8fTQQw+lW265JV1//fXlZ/fff3/5/jvf+c5yOffdd185fcwTeUS69957y3yr+co3/UeAAAECBAgQ6KCAHj0drHRFJkCAAAEC/RaI4Mzdd99dBnYieBMBnkjxO/4+W4rPovdNBHE+/vGPl4GdCNZE76CJiYl0++23l58VRTH7eUx/1113pbGxsXKxEfg5cOBA+V7MJxEgQIAAAQIEuiygR0+Xa1/ZCRAgQIBAnwR27NiRXvva15a9d84V2Jkvu+i5Ez15ondOvI6fCPJET59bb721/OyOO+4oP4/343WkqqdQTBfvC/LMp+s9AgQIECBAoGsCevR0rcaVlwABAgQIDEAggi4RqKmCLxF4iRS3Vy01RcAnegpFip5BVRAoXkeq8qiCRBHoid49EgECBAgQIECgywICPV2ufWUnQIAAAQJ9EIhASxXgicVFwKfqYRM9fapATPS8iWDN3B4/c+eNZcTfkWK6eH3bbbeVPXjidq0I5EQPn2rZ8Xn8RA+fCP7E53H7VzX/3HzKN/1HgAABAgQIEOiAQC/f8150oJyKSIAAAQIECBAgQIAAAQIECBBovYAePa2vYgUkQIAAAQIECBAgQIAAAQIEuiIg0NOVmlZOAgQIECBAgAABAgQIECBAoPUCAj2tr2IFJECAAAECBAgQIECAAAECBLoiINDTlZpWTgIECBAgQIAAAQIECBAgQKD1AgI9ra9iBSRAgAABAgQIECBAgAABAgS6IiDQ05WaVk4CBAgQIECAAAECBAgQIECg9QICPa2vYgUkQIAAAQIECBAgQIAAAQIEuiIg0NOVmlZOAgQIECBAgAABAgQIECBAoPUCAj2tr2IFJECAAAECBAgQIECAAAECBLoiINDTlZpWTgIECBAgQIAAAQIECBAgQKD1AgI9ra9iBSRAgAABAgQIECBAgAABAgS6IiDQ05WaVk4CBAgQIECAAAECBAgQIECg9QICPa2vYgUkQIAAAQIECBAgQIAAAQIEuiIg0NOVmlZOAgQIECBAgAABAgQIECBAoPUCAj2tr2IFJECAAAECBAgQIECAAAECBLoiINDTlZpWTgIECBAgQIAAAQIECBAgQKD1AgI9ra9iBSRAgAABAgQIECBAgAABAgS6IiDQ05WaVk4CBAgQIECAAAECBAgQIECg9QICPa2vYgUkQIAAAQIECBAgQIAAAQIEuiIg0NOVmlZOAgQIECBAgAABAgQIECBAoPUCAj2tr2IFJECAAAECBAgQIECAAAECBLoiINDTlZpWTgIECBAgQIAAAQIECBAgQKD1AgI9ra9iBSRAgAABAgQIECBAgAABAgS6IiDQ05WaVk4CBAgQIECAAAECBAgQIECg9QICPa2vYgUkQIAAAQIECBAgQIAAAQIEuiIg0NOVmlZOAgQIECBAgAABAgQIECBAoPUCAj2tr2IFJECAAAECBAgQIECAAAECBLoiINDTlZpWTgIECBAgQIAAAQIECBAgQKD1AgI9ra9iBSRAgAABAgQIECBAgAABAgS6IiDQ05WaVk4CBAgQIECAAAECBAgQIECg9QICPa2vYgUkQIAAAQIECBAgQIAAAQIEuiIg0NOVmlZOAgQIECBAgAABAgQIECBAoPUCAj2tr2IFJECAAAECBAgQIECAAAECBLoiINDTlZpWTgIECBAgQIAAAQIECBAgQKD1AgI9ra9iBSRAgAABAgQIECBAgAABAgS6IiDQ05WaVk4CBAgQIECAAAECBAgQIECg9QICPa2vYgUkQIAAAQIECBAgQIAAAQIEuiIg0NOVmlZOAgQIECBAgAABAgQIECBAoPUCAj2tr2IFJECAAAECBAgQIECAAAECBLoiINDTlZpWTgIECBAgQIAAAQIECBAgQKD1AgI9ra9iBSRAgAABAgQIECBAgAABAgS6IiDQ05WaVk4CBAgQIECAAAECBAgQIECg9QICPa2vYgUkQIAAAQIECBAgQIAAAQIEuiIg0NOVmlZOAgQIECBAgAABAgQIECBAoPUCAj2tr2IFJECAAAECBAgQIECAAAECBLoiINDTlZpWTgIECBAgQIAAAQIECBAgQKD1AgI9ra9iBSRAgAABAgQIECBAgAABAgS6IiDQ05WaVk4CBAgQIECAAAECBAgQIECg9QICPa2vYgUkQIAAAQIECBAgQIAAAQIEuiLw/wP/4hCLQU3bLwAAAABJRU5ErkJggg==)"
      ],
      "metadata": {
        "id": "Jl9_sf6p0jQ-"
      }
    },
    {
      "cell_type": "code",
      "source": [
        "from transformers import AutoModelForMaskedLM ,AutoTokenizer\n",
        "\n",
        "checkpoint = \"distilroberta-base\"\n",
        "model = AutoModelForMaskedLM.from_pretrained(checkpoint)\n",
        "tokenizer = AutoTokenizer.from_pretrained(checkpoint)\n",
        "\n",
        "\n",
        "raw_inputs = ['My <mask> is Rama',\n",
        "              'I work at <mask>']\n",
        "inputs = tokenizer(raw_inputs ,\n",
        "                   padding = True , \n",
        "                   truncation = True , # Any input sentence with more than max_length is truncated\n",
        "                   return_tensors='pt' # To return PyTorch tensors\n",
        "                   )\n",
        "\n",
        "# inputs\n",
        "output = model(**inputs)\n",
        "print(output.logits)"
      ],
      "metadata": {
        "colab": {
          "base_uri": "https://localhost:8080/",
          "height": 399,
          "referenced_widgets": [
            "4697764afb214bad843c6a49621c7b13",
            "a4f0f6d046fb4f039fcca6135b84ade4",
            "932711bda73a4e83af04a4f846230c0b",
            "b0cb16d5cd2d40e5acf6da24b20ca290",
            "c89bc03f42a0448e8adbcf6cb0787ca8",
            "75e974292c2b46ca83000391399593e7",
            "fba3666dd18042c387259d52af649efe",
            "1c0b47f71642414297cd1d3837306efa",
            "047c70b690c04f018c46e3f70097ba7f",
            "be56a72908ad4471ba36ac2346b37d23",
            "6f2c3bd06c734bee9070752f036645ab",
            "c7f2a11b07f248de87fad5e733406f60",
            "d297d4b3063d4f469ef6149e489d033d",
            "73aa94d58ea34cd290ac85ca2d6a34ea",
            "f77d05eeea634141a93e7472ddae3c56",
            "bedad5a4f28b49a09568019c9daa8b9a",
            "a559376f36da430a902d3bac6baa82af",
            "bb8de152b6b940638a326dd8fe4a612e",
            "41d6ff4d3f4c49deaa1371599907ba4e",
            "0dbde1b2a97a4728b7c1a13b9ab53b36",
            "ca4588bf0d604e98853c678491f18669",
            "e200291257a54b7f9c7bd3e00b9ef3b8",
            "781c1ad514674b028cc742f05cbaff60",
            "c9026311c559441fb0cc59c68117e15e",
            "e69afdcadf1e4c9a9fa30d292ab61026",
            "78e5966e98e145b79c2c7ac555a46b0b",
            "c9691943ca8c4f4090a4a6212f9e7c9c",
            "d76ee5850eac4835b9d6da6c0bd238d3",
            "bd9834cacff841659e49c77b7e66272f",
            "d31e2c5df3d948c8bf2f8973252cab9d",
            "a811ffc6147c4177aa436dcf55b3b3be",
            "cb14a2027596450e8e6167a3d2c7bc33",
            "c0e7c7383e374d09813bd28d8f038119"
          ]
        },
        "id": "qkSUrRC2z6aJ",
        "outputId": "af9834a3-070f-4c1e-dad9-49ad08540f51"
      },
      "execution_count": 21,
      "outputs": [
        {
          "output_type": "display_data",
          "data": {
            "text/plain": [
              "Downloading vocab.json:   0%|          | 0.00/878k [00:00<?, ?B/s]"
            ],
            "application/vnd.jupyter.widget-view+json": {
              "version_major": 2,
              "version_minor": 0,
              "model_id": "4697764afb214bad843c6a49621c7b13"
            }
          },
          "metadata": {}
        },
        {
          "output_type": "display_data",
          "data": {
            "text/plain": [
              "Downloading merges.txt:   0%|          | 0.00/446k [00:00<?, ?B/s]"
            ],
            "application/vnd.jupyter.widget-view+json": {
              "version_major": 2,
              "version_minor": 0,
              "model_id": "c7f2a11b07f248de87fad5e733406f60"
            }
          },
          "metadata": {}
        },
        {
          "output_type": "display_data",
          "data": {
            "text/plain": [
              "Downloading tokenizer.json:   0%|          | 0.00/1.29M [00:00<?, ?B/s]"
            ],
            "application/vnd.jupyter.widget-view+json": {
              "version_major": 2,
              "version_minor": 0,
              "model_id": "781c1ad514674b028cc742f05cbaff60"
            }
          },
          "metadata": {}
        },
        {
          "output_type": "stream",
          "name": "stdout",
          "text": [
            "tensor([[[ 34.7359,  -4.8791,  21.2362,  ...,   0.4934,   3.5516,  13.2017],\n",
            "         [  5.5378,  -5.3562,  16.0790,  ...,  -2.3625,   0.4682,   2.9870],\n",
            "         [ -5.3150,  -5.3309,   2.3016,  ...,  -7.9356,  -5.4794,  -2.4606],\n",
            "         ...,\n",
            "         [ -1.5306,  -6.2953,   8.4770,  ...,  -5.4117,  -4.1099,  -1.4207],\n",
            "         [ -0.9039,  -6.0516,   8.3035,  ...,  -8.0381,  -5.9725,   0.1581],\n",
            "         [ 14.6255,  -6.6488,  22.1655,  ...,  -3.9008,  -1.4958,   4.5869]],\n",
            "\n",
            "        [[ 34.9247,  -4.7844,  20.9546,  ...,   0.6829,   3.0318,  13.2775],\n",
            "         [  4.8749,  -5.2076,  13.2881,  ...,  -4.9349,  -3.9482,   1.8015],\n",
            "         [ -3.3881,  -5.9698,   9.7989,  ...,  -3.5722,  -3.4903,  -3.1264],\n",
            "         ...,\n",
            "         [ -4.3650,  -6.1633,   5.9955,  ...,  -9.7195, -10.1738,  -0.3317],\n",
            "         [ 14.9038,  -6.5304,  21.5897,  ...,  -3.9242,  -2.2425,   4.7664],\n",
            "         [  1.1676,  -5.0391,  10.4798,  ...,  -6.3138,  -6.3604,   1.6753]]],\n",
            "       grad_fn=<ViewBackward0>)\n"
          ]
        }
      ]
    },
    {
      "cell_type": "code",
      "source": [
        "print(output.logits.shape)"
      ],
      "metadata": {
        "colab": {
          "base_uri": "https://localhost:8080/"
        },
        "id": "397tVXKf1pPu",
        "outputId": "5d6b2856-e316-43fd-9909-671ded3bd2e2"
      },
      "execution_count": 22,
      "outputs": [
        {
          "output_type": "stream",
          "name": "stdout",
          "text": [
            "torch.Size([2, 7, 50265])\n"
          ]
        }
      ]
    },
    {
      "cell_type": "code",
      "source": [
        "## Open Point -  How to create the same for AutoModelForMaskedLM ? "
      ],
      "metadata": {
        "id": "NemT08R44FFE"
      },
      "execution_count": 28,
      "outputs": []
    },
    {
      "cell_type": "code",
      "source": [],
      "metadata": {
        "id": "yaJp9MxD5x25"
      },
      "execution_count": null,
      "outputs": []
    }
  ]
}